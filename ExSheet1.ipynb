{
 "cells": [
  {
   "cell_type": "markdown",
   "id": "be831e20",
   "metadata": {},
   "source": []
  },
  {
   "cell_type": "code",
   "execution_count": 1,
   "id": "b2b10654",
   "metadata": {},
   "outputs": [
    {
     "data": {
      "text/plain": [
       "0.2601626016260163"
      ]
     },
     "execution_count": 1,
     "metadata": {},
     "output_type": "execute_result"
    }
   ],
   "source": [
    "ci = 0.7*0.025+0.28*0.1+0.02*0.8\n",
    "i = 0.02\n",
    "ci_i = 0.8\n",
    "ci_i*i/ci"
   ]
  },
  {
   "cell_type": "code",
   "execution_count": 1,
   "id": "1e97e90f",
   "metadata": {},
   "outputs": [],
   "source": [
    "import numpy as np \n",
    "import matplotlib.pyplot as plt\n",
    "from numpy.linalg import inv"
   ]
  },
  {
   "cell_type": "code",
   "execution_count": 2,
   "id": "5c49a2e0",
   "metadata": {},
   "outputs": [],
   "source": [
    "x = np.array([3, 4, 6, 8, 12, 15])\n",
    "y = np.array([14, 20, 27, 41, 63, 73])"
   ]
  },
  {
   "cell_type": "code",
   "execution_count": 3,
   "id": "18992119",
   "metadata": {},
   "outputs": [
    {
     "data": {
      "text/plain": [
       "[<matplotlib.lines.Line2D at 0x7efc8a7ffa60>]"
      ]
     },
     "execution_count": 3,
     "metadata": {},
     "output_type": "execute_result"
    },
    {
     "data": {
      "image/png": "[encoded data removed]",
      "text/plain": [
       "<Figure size 432x288 with 1 Axes>"
      ]
     },
     "metadata": {
      "needs_background": "light"
     },
     "output_type": "display_data"
    }
   ],
   "source": [
    "plt.plot(x, y, \"x\")"
   ]
  },
  {
   "cell_type": "code",
   "execution_count": 4,
   "id": "2671315c",
   "metadata": {},
   "outputs": [],
   "source": [
    "def get_lingress_params(x, y):\n",
    "    M = np.array([x, np.ones(x.shape[0])]).T\n",
    "    return inv(M.T@M)@M.T@y"
   ]
  },
  {
   "cell_type": "code",
   "execution_count": 5,
   "id": "9ec93751",
   "metadata": {},
   "outputs": [
    {
     "data": {
      "text/plain": [
       "array([ 5.08181818, -0.98787879])"
      ]
     },
     "execution_count": 5,
     "metadata": {},
     "output_type": "execute_result"
    }
   ],
   "source": [
    "a = get_lingress_params(x, y)\n",
    "a"
   ]
  },
  {
   "cell_type": "code",
   "execution_count": 6,
   "id": "5b5c21f8",
   "metadata": {},
   "outputs": [
    {
     "data": {
      "text/plain": [
       "[<matplotlib.lines.Line2D at 0x7efc89fc0100>]"
      ]
     },
     "execution_count": 6,
     "metadata": {},
     "output_type": "execute_result"
    },
    {
     "data": {
      "image/png": "[encoded data removed]",
      "text/plain": [
       "<Figure size 432x288 with 1 Axes>"
      ]
     },
     "metadata": {
      "needs_background": "light"
     },
     "output_type": "display_data"
    }
   ],
   "source": [
    "x_fit = np.linspace(np.min(x), np.max(x), 500)\n",
    "plt.plot(x, y, \"x\")\n",
    "plt.plot(x_fit, a[0]*x_fit+a[1])"
   ]
  },
  {
   "cell_type": "code",
   "execution_count": 7,
   "id": "3fcc7588",
   "metadata": {},
   "outputs": [
    {
     "data": {
      "text/plain": [
       "array([0.19522701, 0.25599534])"
      ]
     },
     "execution_count": 7,
     "metadata": {},
     "output_type": "execute_result"
    }
   ],
   "source": [
    "a2 = get_lingress_params(y, x)\n",
    "a2 "
   ]
  },
  {
   "cell_type": "code",
   "execution_count": 8,
   "id": "5706f983",
   "metadata": {},
   "outputs": [
    {
     "data": {
      "text/plain": [
       "[<matplotlib.lines.Line2D at 0x7efc89f2e520>]"
      ]
     },
     "execution_count": 8,
     "metadata": {},
     "output_type": "execute_result"
    },
    {
     "data": {
      "image/png": "[encoded data removed]",
      "text/plain": [
       "<Figure size 432x288 with 1 Axes>"
      ]
     },
     "metadata": {
      "needs_background": "light"
     },
     "output_type": "display_data"
    }
   ],
   "source": [
    "y_fit = np.linspace(np.min(y), np.max(y), 500)\n",
    "plt.plot(x, y, \"x\")\n",
    "plt.plot(a2[0]*y_fit+a2[1], y_fit)"
   ]
  },
  {
   "cell_type": "code",
   "execution_count": 9,
   "id": "b5ea87d1",
   "metadata": {},
   "outputs": [
    {
     "data": {
      "text/plain": [
       "(24.421212121212115, 24.29994036970782)"
      ]
     },
     "execution_count": 9,
     "metadata": {},
     "output_type": "execute_result"
    }
   ],
   "source": [
    "f1 = a[0]*5+a[1]\n",
    "f2 = (5-a2[1])/a2[0]\n",
    "f1, f2"
   ]
  },
  {
   "cell_type": "code",
   "execution_count": null,
   "id": "97307f6e",
   "metadata": {},
   "outputs": [],
   "source": []
  }
 ],
 "metadata": {
  "kernelspec": {
   "display_name": "Python 3 (ipykernel)",
   "language": "python",
   "name": "python3"
  },
  "language_info": {
   "codemirror_mode": {
    "name": "ipython",
    "version": 3
   },
   "file_extension": ".py",
   "mimetype": "text/x-python",
   "name": "python",
   "nbconvert_exporter": "python",
   "pygments_lexer": "ipython3",
   "version": "3.8.12"
  }
 },
 "nbformat": 4,
 "nbformat_minor": 5
}
