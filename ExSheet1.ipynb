{
 "cells": [
  {
   "cell_type": "markdown",
   "id": "be831e20",
   "metadata": {},
   "source": [
    "Exercise Sheet 1 Machine Learning for Physicists - Ludwig Neste\n",
    "==="
   ]
  },
  {
   "cell_type": "markdown",
   "id": "b1f880e0",
   "metadata": {},
   "source": [
    "<h2 id=\"tocheading\">Table of Contents</h2>\n",
    "<div id=\"toc\"></div>"
   ]
  },
  {
   "cell_type": "code",
   "execution_count": 2,
   "id": "61d27bde",
   "metadata": {},
   "outputs": [],
   "source": [
    "from IPython.display import Markdown as md"
   ]
  },
  {
   "cell_type": "code",
   "execution_count": 3,
   "id": "49307be5",
   "metadata": {},
   "outputs": [
    {
     "data": {
      "application/javascript": [
       "$.getScript('https://kmahelona.github.io/ipython_notebook_goodies/ipython_notebook_toc.js')\n"
      ],
      "text/plain": [
       "<IPython.core.display.Javascript object>"
      ]
     },
     "metadata": {},
     "output_type": "display_data"
    }
   ],
   "source": [
    "%%javascript\n",
    "$.getScript('https://kmahelona.github.io/ipython_notebook_goodies/ipython_notebook_toc.js')"
   ]
  },
  {
   "cell_type": "markdown",
   "id": "c38440ce",
   "metadata": {},
   "source": [
    "## 1. A primer in statistics"
   ]
  },
  {
   "cell_type": "markdown",
   "id": "2f52a8c4",
   "metadata": {},
   "source": [
    "In this exercise we need to use Bayes Law: \n",
    "$$\n",
    "P(A|B) = \\frac{P(B|A)P(A)}{P(B)} = \\frac{P(B|A)P(A)}{\\sum_i P(B|i)P(i)}\n",
    "$$"
   ]
  },
  {
   "cell_type": "code",
   "execution_count": 3,
   "id": "a05f6691",
   "metadata": {},
   "outputs": [],
   "source": [
    "# Define the variables from the exersise (hopefully the names are clear)\n",
    "s_s, s_e, s_i = 0.95, 0.9, 0.8 # sensetifity\n",
    "p_s, p_e, p_i = 0.7, 0.28, 0.02 # probability"
   ]
  },
  {
   "cell_type": "markdown",
   "id": "1de94ec1",
   "metadata": {},
   "source": [
    "### a)\n",
    "Using Bayes Law, the probability that a galaxy is irregular, under the condition that it is classified as irregular is \n",
    "$$\n",
    "P(I|CI) = \\frac{P(CI|I) P(I)}{P(CI|I)P(I)+P(CI|E)P(E)+P(CI|S)P(S)}\n",
    "$$"
   ]
  },
  {
   "cell_type": "code",
   "execution_count": 4,
   "id": "b2b10654",
   "metadata": {},
   "outputs": [
    {
     "data": {
      "text/markdown": [
       "Solution: $P(I|CI)=33.68\\%$"
      ],
      "text/plain": [
       "<IPython.core.display.Markdown object>"
      ]
     },
     "execution_count": 4,
     "metadata": {},
     "output_type": "execute_result"
    }
   ],
   "source": [
    "p_i_ci = s_i*p_i/(p_i*s_i+p_e*(1-s_e)/2+p_s*(1-s_s)/2)\n",
    "md(f\"Solution: $P(I|CI)={p_i_ci*100:.2f}\\%$\")"
   ]
  },
  {
   "cell_type": "markdown",
   "id": "e0c9733a",
   "metadata": {},
   "source": [
    "### b)\n",
    "Using Bayes Law, the probability that a galaxy is irregular, under the condition that it is classified as irregular is \n",
    "$$\n",
    "P(S|CE) = \\frac{P(CE|S) P(S)}{P(CE|I)P(I)+P(CE|E)P(E)+P(CE|S)P(S)}\n",
    "$$"
   ]
  },
  {
   "cell_type": "code",
   "execution_count": 5,
   "id": "de7a7b0f",
   "metadata": {},
   "outputs": [
    {
     "data": {
      "text/markdown": [
       "Solution: $P(I|CI)=12.89\\%$"
      ],
      "text/plain": [
       "<IPython.core.display.Markdown object>"
      ]
     },
     "execution_count": 5,
     "metadata": {},
     "output_type": "execute_result"
    }
   ],
   "source": [
    "p_s_ce = (1-s_e)/2*p_s/(p_i*(1-s_i)/2+p_e*s_e+p_s*(1-s_s)/2)\n",
    "md(f\"Solution: $P(I|CI)={p_s_ce*100:.2f}\\%$\")"
   ]
  },
  {
   "cell_type": "markdown",
   "id": "3a5a67a4",
   "metadata": {},
   "source": [
    "## 2. Linear regression"
   ]
  },
  {
   "cell_type": "code",
   "execution_count": 6,
   "id": "1e97e90f",
   "metadata": {},
   "outputs": [],
   "source": [
    "import numpy as np \n",
    "import matplotlib.pyplot as plt\n",
    "from numpy.linalg import inv"
   ]
  },
  {
   "cell_type": "code",
   "execution_count": 7,
   "id": "5c49a2e0",
   "metadata": {},
   "outputs": [],
   "source": [
    "# This is the given data\n",
    "x = np.array([3, 4, 6, 8, 12, 15])\n",
    "y = np.array([14, 20, 27, 41, 63, 73])"
   ]
  },
  {
   "cell_type": "code",
   "execution_count": 8,
   "id": "18992119",
   "metadata": {},
   "outputs": [
    {
     "data": {
      "text/plain": [
       "[<matplotlib.lines.Line2D at 0x7efba80f4130>]"
      ]
     },
     "execution_count": 8,
     "metadata": {},
     "output_type": "execute_result"
    },
    {
     "data": {
      "image/png": "[encoded data removed]",
      "text/plain": [
       "<Figure size 432x288 with 1 Axes>"
      ]
     },
     "metadata": {
      "needs_background": "light"
     },
     "output_type": "display_data"
    }
   ],
   "source": [
    "plt.plot(x, y, \"x\")"
   ]
  },
  {
   "cell_type": "markdown",
   "id": "8ab53ddb",
   "metadata": {},
   "source": [
    "Derive the optimal parameters for linear regression minimizing the square error on the \"training-set\" (in ML speak).\n",
    "Our hypothesis class is the function space:\n",
    "$$\n",
    "\\mathcal{H} = \\{f\\mapsto ax+b\\ |\\ a, b \\in \\mathbb{R}\\}\n",
    "$$\n",
    "The square error is the loss function: \n",
    "$$\n",
    "L(\\vec x, \\vec y) = \\sum_{i=0}^{N} \\left(y_i-f(x_i)\\right)^2=\\left(\\vec y - \\vec f (x) \\right)^2 = \\left(\\vec y - \\vec f (x) \\right)^{\\mathrm{T}}\\left(\\vec y - \\vec f (x) \\right)\n",
    "$$\n",
    "Where \n",
    "$\\vec x$ is the column vector of $x$-data, $\\vec y$ is the column vector of $y$-data and \n",
    "$$\n",
    "\\vec f(\\vec x) = \n",
    "\\begin{pmatrix}\n",
    "f(x_1)\\\\\n",
    "f(x_2)\\\\\n",
    "\\dots \\\\\n",
    "f(x_N)\n",
    "\\end{pmatrix}\n",
    "=\n",
    "\\begin{pmatrix}\n",
    "a x_1+b\\\\\n",
    "a x_2+b\\\\\n",
    "\\dots \\\\\n",
    "a x_N+b\n",
    "\\end{pmatrix}\n",
    "=\n",
    "a\\vec x +b \\vec 1\n",
    "=\\overbrace{(\\vec x, \\vec 1)}^{\\underline M}\n",
    "\\begin{pmatrix}\n",
    "a \\\\\n",
    "b\n",
    "\\end{pmatrix}\n",
    "= \\underline M \n",
    "\\begin{pmatrix}\n",
    "a \\\\\n",
    "b\n",
    "\\end{pmatrix}\n",
    "$$\n",
    "where $\\vec 1$ is the $N$-row column vector with only ones in it. "
   ]
  },
  {
   "cell_type": "markdown",
   "id": "2d3c92b2",
   "metadata": {},
   "source": [
    "So minimizing the loss function in the hypothesis space means minimizing the loss function with respect to a, b:\n",
    "$$\n",
    "\\nabla_{a,b} L = \\nabla_{a,b} \\left(\\vec y - \\underline M \n",
    "\\begin{pmatrix}\n",
    "a \\\\\n",
    "b\n",
    "\\end{pmatrix} \\right)^{\\mathrm{T}}\\left(\\vec y - \\underline M \n",
    "\\begin{pmatrix}\n",
    "a \\\\\n",
    "b\n",
    "\\end{pmatrix} \\right)\n",
    "=M^{\\mathrm{T}}\\left(\\vec y - \\underline M \n",
    "\\begin{pmatrix}\n",
    "a \\\\\n",
    "b\n",
    "\\end{pmatrix} \\right)+\\left(\\vec y - \\underline M \n",
    "\\begin{pmatrix}\n",
    "a \\\\\n",
    "b\n",
    "\\end{pmatrix} \\right)^{\\mathrm{T}}\\underline M \n",
    "= 2M^{\\mathrm{T}}\\left(\\vec y - \\underline M \n",
    "\\begin{pmatrix}\n",
    "a \\\\\n",
    "b\n",
    "\\end{pmatrix} \\right)\n",
    "\\overset{!}{=}0\n",
    "$$"
   ]
  },
  {
   "cell_type": "markdown",
   "id": "24e2ec2a",
   "metadata": {},
   "source": [
    "$$\n",
    "\\Leftrightarrow M^{\\mathrm{T}}\\vec y = M^{\\mathrm{T}} M \\begin{pmatrix}\n",
    "a \\\\\n",
    "b\n",
    "\\end{pmatrix}\n",
    "\\Leftrightarrow \\begin{pmatrix}\n",
    "a \\\\\n",
    "b\n",
    "\\end{pmatrix} \n",
    "=\n",
    "(M^{\\mathrm{T}} M)^{-1} M^{\\mathrm{T}}\\vec y\n",
    "$$\n",
    "The last step being possible, since $M^{\\mathrm{T}}M$ is a square matrix."
   ]
  },
  {
   "cell_type": "code",
   "execution_count": 9,
   "id": "2671315c",
   "metadata": {},
   "outputs": [],
   "source": [
    "# Get the the parameters a, b for linear regression\n",
    "def get_lingress_params(x, y):\n",
    "    M = np.array([x, np.ones(x.shape[0])]).T\n",
    "    return inv(M.T@M)@M.T@y"
   ]
  },
  {
   "cell_type": "markdown",
   "id": "9b68725d",
   "metadata": {},
   "source": [
    "### a)"
   ]
  },
  {
   "cell_type": "code",
   "execution_count": 10,
   "id": "9ec93751",
   "metadata": {},
   "outputs": [
    {
     "data": {
      "text/markdown": [
       "$a=5.08$\n",
       "\n",
       "$b=-0.99$"
      ],
      "text/plain": [
       "<IPython.core.display.Markdown object>"
      ]
     },
     "execution_count": 10,
     "metadata": {},
     "output_type": "execute_result"
    }
   ],
   "source": [
    "a = get_lingress_params(x, y)\n",
    "md(f\"$a={a[0]:.2f}$\\n\\n$b={a[1]:.2f}$\")"
   ]
  },
  {
   "cell_type": "code",
   "execution_count": 11,
   "id": "5b5c21f8",
   "metadata": {},
   "outputs": [
    {
     "data": {
      "text/plain": [
       "[<matplotlib.lines.Line2D at 0x7efba5fe9490>]"
      ]
     },
     "execution_count": 11,
     "metadata": {},
     "output_type": "execute_result"
    },
    {
     "data": {
      "image/png": "[encoded data removed]",
      "text/plain": [
       "<Figure size 432x288 with 1 Axes>"
      ]
     },
     "metadata": {
      "needs_background": "light"
     },
     "output_type": "display_data"
    }
   ],
   "source": [
    "x_fit = np.linspace(np.min(x), np.max(x), 500)\n",
    "plt.plot(x, y, \"x\")\n",
    "plt.plot(x_fit, a[0]*x_fit+a[1])"
   ]
  },
  {
   "cell_type": "markdown",
   "id": "81d43374",
   "metadata": {},
   "source": [
    "### b)\n",
    "'Trick' here: the roles of y and x are switched around, so just reuse the function:"
   ]
  },
  {
   "cell_type": "code",
   "execution_count": 12,
   "id": "3fcc7588",
   "metadata": {},
   "outputs": [
    {
     "data": {
      "text/markdown": [
       "$c=0.20$\n",
       "\n",
       "$d=0.26$"
      ],
      "text/plain": [
       "<IPython.core.display.Markdown object>"
      ]
     },
     "execution_count": 12,
     "metadata": {},
     "output_type": "execute_result"
    }
   ],
   "source": [
    "a2 = get_lingress_params(y, x)\n",
    "md(f\"$c={a2[0]:.2f}$\\n\\n$d={a2[1]:.2f}$\")"
   ]
  },
  {
   "cell_type": "code",
   "execution_count": 13,
   "id": "5706f983",
   "metadata": {},
   "outputs": [
    {
     "data": {
      "text/plain": [
       "[<matplotlib.lines.Line2D at 0x7efba5f59610>]"
      ]
     },
     "execution_count": 13,
     "metadata": {},
     "output_type": "execute_result"
    },
    {
     "data": {
      "image/png": "[encoded data removed]",
      "text/plain": [
       "<Figure size 432x288 with 1 Axes>"
      ]
     },
     "metadata": {
      "needs_background": "light"
     },
     "output_type": "display_data"
    }
   ],
   "source": [
    "y_fit = np.linspace(np.min(y), np.max(y), 500)\n",
    "plt.plot(x, y, \"x\")\n",
    "plt.plot(a2[0]*y_fit+a2[1], y_fit)"
   ]
  },
  {
   "cell_type": "markdown",
   "id": "8f347a34",
   "metadata": {},
   "source": [
    "### c)"
   ]
  },
  {
   "cell_type": "code",
   "execution_count": 14,
   "id": "b5ea87d1",
   "metadata": {},
   "outputs": [
    {
     "data": {
      "text/markdown": [
       "$f_1(5)=24.42$ and $f_2^{-1}(5)=24.30$"
      ],
      "text/plain": [
       "<IPython.core.display.Markdown object>"
      ]
     },
     "execution_count": 14,
     "metadata": {},
     "output_type": "execute_result"
    }
   ],
   "source": [
    "f1 = a[0]*5+a[1]\n",
    "f2 = (5-a2[1])/a2[0]\n",
    "md(f\"$f_1(5)={f1:.2f}$ and $f_2^{{-1}}(5)={f2:.2f}$\")"
   ]
  },
  {
   "cell_type": "markdown",
   "id": "fc49991b",
   "metadata": {},
   "source": [
    "### d)\n",
    "Observe that $a\\neq 1/c$ and $b\\neq-d/c$!\n",
    "Since we have two different models, so to speak: 'The parameters to minimize the square error on the model, does not minimize the errors on the 'inverse' model'!\n",
    "\n",
    "So the main difference is: $L(f_1(x), y) \\neq L(x, f_2(y))$, so we optimize the params for different things."
   ]
  },
  {
   "cell_type": "markdown",
   "id": "c76ec7a1",
   "metadata": {},
   "source": [
    "When to prefer one model over the other is hard to say. If you know $x$ is given and $y$ is calculated, you should prefer $f_1$ (e.g. the setting of the heater is a number and the room temp depends on it). If you know that $y$ is given and depends on $x$, you should use $f_2$. This is so to speak prior knowledge about the model."
   ]
  },
  {
   "cell_type": "markdown",
   "id": "32e82a9d",
   "metadata": {},
   "source": [
    "## 3. Linear regression"
   ]
  },
  {
   "cell_type": "markdown",
   "id": "1b1e6bef",
   "metadata": {},
   "source": [
    "The likelihood of observing $y_i$ under the data $X$ with the given model is:\n",
    "$$\n",
    "P(\\vec y | X) = L(\\vec w) = \\prod_{i=1}^{N}\\frac{1}{2b} e^{-\\frac{\\left| \\epsilon_i\\right|}{b}}\n",
    "=\n",
    "\\frac{1}{2^Nb^N}\\exp\\left(-\\frac{1}{b}\\sum_{i=1}^{N}\\left|\\epsilon_i\\right|\\right)\n",
    "=\n",
    "\\frac{1}{2^Nb^N}\\exp\\left(-\\frac{1}{b}\\sum_{i=1}^{N}\\left|y_i-{\\vec w}^{\\mathrm{T}}\\cdot\\vec x_i\\right|\\right)\n",
    "$$"
   ]
  },
  {
   "cell_type": "markdown",
   "id": "9e9b00eb",
   "metadata": {},
   "source": [
    "### a) \n",
    "This means that with MLE, we have:\n",
    "$$\n",
    "\\vec w_{\\mathrm{opt}} = \n",
    "\\underset{\\vec w}{\\mathrm{argmax}}\n",
    "\\frac{1}{2^Nb^N}\\exp\\left(-\\frac{1}{b}\\sum_{i=1}^{N}\\left|y_i-{\\vec w}^{\\mathrm{T}}\\cdot\\vec x_i\\right|\\right)\n",
    "= \n",
    "\\underset{\\vec w}{\\mathrm{argmax}}\n",
    "\\exp\\left(-\\frac{1}{b}\\sum_{i=1}^{N}\\left|y_i-{\\vec w}^{\\mathrm{T}}\\cdot\\vec x_i\\right|\\right)\n",
    "= \n",
    "\\underset{\\vec w}{\\mathrm{argmax}}\n",
    "\\left(-\\frac{1}{b}\\sum_{i=1}^{N}\\left|y_i-{\\vec w}^{\\mathrm{T}}\\cdot\\vec x_i\\right|\\right)\n",
    "= \n",
    "\\underset{\\vec w}{\\mathrm{argmin}}\n",
    "\\left(\\frac{1}{b}\\sum_{i=1}^{N}\\left|y_i-{\\vec w}^{\\mathrm{T}}\\cdot\\vec x_i\\right|\\right)\n",
    "= \n",
    "\\underset{\\vec w}{\\mathrm{argmin}}\n",
    "\\left(\\sum_{i=1}^{N}\\left|y_i-{\\vec w}^{\\mathrm{T}}\\cdot\\vec x_i\\right|\\right)\n",
    "$$"
   ]
  },
  {
   "cell_type": "markdown",
   "id": "057768e7",
   "metadata": {},
   "source": [
    "Where we have used that searching the argument $\\vec w$ that maximizes/minimizes a function $a\\cdot f(\\vec w)$ is the same as searching with the function $f(\\vec w)$.\n",
    "\n",
    "If we have a stricly monotone function $g: \\mathbb{R} \\rightarrow \\mathbb{R}$, we also have used the relations\n",
    "$\\underset{\\vec w}{\\mathrm{argmax}}\\ f(\\vec w)=\\underset{\\vec w}{\\mathrm{argmax}}\\ g(f(\\vec w))$, \n",
    "and \n",
    "$\\underset{\\vec w}{\\mathrm{argmax}}\\ f(\\vec w)=\\underset{\\vec w}{\\mathrm{argmin}}\\ -f(\\vec w)$.\n",
    "We used $g=\\ln$ in step 2."
   ]
  },
  {
   "cell_type": "markdown",
   "id": "28b53e83",
   "metadata": {},
   "source": [
    "### b)\n",
    "From our Argumentation in a) we find:\n",
    "$$\n",
    "J_2(\\vec w)=\\sum_{i=1}^{N}\\left| y_i-{\\vec w}^{\\mathrm{T}}\\cdot\\vec x_i\\right|\n",
    "$$\n",
    "though we could equaly choose\n",
    "$$\n",
    "J_2(\\vec w)=\\frac{1}{N}\\sum_{i=1}^{N}\\left| y_i-{\\vec w}^{\\mathrm{T}}\\cdot\\vec x_i\\right|\n",
    "$$"
   ]
  },
  {
   "cell_type": "markdown",
   "id": "03551045",
   "metadata": {},
   "source": [
    "### c)\n",
    "Since this loss function does not have squared errors, it can be efficient to have for example one point far away from the model, if for that another point is very close to the model. \n",
    "If we have squared errors, this would be unfavorible, because the big error is multiplied by itself."
   ]
  },
  {
   "cell_type": "markdown",
   "id": "f31b77eb",
   "metadata": {},
   "source": [
    "## 4. Confusion Matrix\n",
    "|| Classified as True | Classified as False | Sum |\n",
    "|:------| :-----------: | :-----------: |------:|\n",
    "| **True** | 300      | 200       |500|\n",
    "| **False** | 100   | 400       |500|\n",
    "| **Sum** | 400   |  600        |1000|"
   ]
  },
  {
   "cell_type": "markdown",
   "id": "cec84758",
   "metadata": {},
   "source": [
    "## 5. Exercises from *Understanding Machine Learning*"
   ]
  },
  {
   "cell_type": "code",
   "execution_count": null,
   "id": "d8290da3",
   "metadata": {},
   "outputs": [],
   "source": []
  }
 ],
 "metadata": {
  "kernelspec": {
   "display_name": "Python 3 (ipykernel)",
   "language": "python",
   "name": "python3"
  },
  "language_info": {
   "codemirror_mode": {
    "name": "ipython",
    "version": 3
   },
   "file_extension": ".py",
   "mimetype": "text/x-python",
   "name": "python",
   "nbconvert_exporter": "python",
   "pygments_lexer": "ipython3",
   "version": "3.9.7"
  }
 },
 "nbformat": 4,
 "nbformat_minor": 5
}
