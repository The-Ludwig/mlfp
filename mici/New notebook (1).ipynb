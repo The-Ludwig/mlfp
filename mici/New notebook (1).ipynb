{
 "cells": [
  {
   "cell_type": "code",
   "execution_count": 1,
   "metadata": {
    "datalore": {
     "sheet_delimiter": false
    }
   },
   "outputs": [
    {
     "name": "stderr",
     "output_type": "stream",
     "text": [
      "2021-12-23 01:24:48.202621: W tensorflow/stream_executor/platform/default/dso_loader.cc:64] Could not load dynamic library 'libcudart.so.11.0'; dlerror: libcudart.so.11.0: cannot open shared object file: No such file or directory\n",
      "2021-12-23 01:24:48.202642: I tensorflow/stream_executor/cuda/cudart_stub.cc:29] Ignore above cudart dlerror if you do not have a GPU set up on your machine.\n"
     ]
    }
   ],
   "source": [
    "import math\n",
    "import matplotlib.pyplot as plt\n",
    "import numpy as np\n",
    "from numpy.random import seed\n",
    "import pandas as pd\n",
    "import tensorflow\n",
    "from tensorflow.keras.layers import Dense, Dropout\n",
    "from tensorflow.keras.models import Sequential\n",
    "from tensorflow.keras.wrappers.scikit_learn import KerasRegressor\n",
    "from sklearn.metrics import mean_absolute_error\n",
    "from sklearn.metrics import mean_squared_error\n",
    "from sklearn.model_selection import train_test_split\n",
    "from sklearn.preprocessing import MinMaxScaler\n",
    "from tensorflow.keras.layers import LeakyReLU, Flatten"
   ]
  },
  {
   "cell_type": "code",
   "execution_count": 2,
   "metadata": {
    "datalore": {
     "sheet_delimiter": false
    }
   },
   "outputs": [],
   "source": [
    "df= pd.read_csv('train.csv')\n",
    "X = df.drop(columns = 'critical_temp')\n",
    "y = df['critical_temp']\n",
    "y = np.array(y)"
   ]
  },
  {
   "cell_type": "markdown",
   "metadata": {
    "datalore": {
     "sheet_delimiter": false
    }
   },
   "source": [
    "#Filter the data\n",
    "cor_matrix = df.corr().abs()\n",
    "upper_tri = cor_matrix.where(np.triu(np.ones(cor_matrix.shape),k=1).astype(np.bool))\n",
    "to_drop = [column for column in upper_tri.columns if any(upper_tri[column] > 0.9)]#IF THE CORRELATION IS HIGHER THAN 0.9 WE CAN DROP THE COLUMNS\n",
    "df_copy = df.copy(deep=True)\n",
    "df_copy.drop(columns=to_drop,inplace=True)\n",
    "X = df_copy.drop(columns = ['critical_temp'])\n",
    "y = df.critical_temp\n",
    "y = np.array(y)\n",
    "X = np.array(X)\n",
    "X_train,X_test,y_train,y_test = train_test_split(X,y)"
   ]
  },
  {
   "cell_type": "code",
   "execution_count": 3,
   "metadata": {},
   "outputs": [],
   "source": [
    "from sklearn.preprocessing import StandardScaler\n",
    "X = StandardScaler().fit_transform(X)"
   ]
  },
  {
   "cell_type": "code",
   "execution_count": 4,
   "metadata": {},
   "outputs": [
    {
     "data": {
      "text/plain": [
       "array([ 2.13867917e-17, -2.08521219e-16, -4.38429229e-16, -8.28738176e-17,\n",
       "        2.13867917e-17,  1.71094333e-16,  9.08938645e-17, -1.28320750e-16,\n",
       "        1.06933958e-17, -2.03174521e-16, -5.34669791e-17, -4.70509416e-16,\n",
       "       -5.77443375e-16,  7.80617895e-16,  6.41603750e-16, -5.88136770e-16,\n",
       "        2.67334896e-16, -2.13867917e-16,  4.27735833e-16,  1.06933958e-17,\n",
       "        0.00000000e+00,  8.44778270e-16,  5.40016489e-16, -1.59866268e-15,\n",
       "        2.56641500e-16, -2.45948104e-16, -2.83374989e-16, -3.20801875e-17,\n",
       "        1.22974052e-16,  2.13867917e-16,  1.06933958e-16,  1.20300703e-16,\n",
       "       -1.71094333e-16, -1.49707542e-16,  0.00000000e+00, -3.31495271e-16,\n",
       "        1.47034193e-16,  2.48621453e-16, -8.42104921e-17, -2.53299814e-16,\n",
       "       -1.60400937e-16, -1.71094333e-16,  0.00000000e+00,  1.28320750e-16,\n",
       "        9.62405624e-17, -2.67334896e-16,  0.00000000e+00,  1.17627354e-16,\n",
       "        1.28320750e-16,  1.06933958e-17,  3.31495271e-16, -1.06933958e-17,\n",
       "        1.28320750e-16,  5.34669791e-18, -9.62405624e-17, -2.61988198e-16,\n",
       "        2.03174521e-16,  1.92481125e-16,  1.28320750e-16,  2.67334896e-17,\n",
       "       -6.41603750e-17,  0.00000000e+00, -1.71094333e-16,  8.02004687e-17,\n",
       "        5.34669791e-17, -1.60400937e-16, -3.63575458e-16,  3.20801875e-16,\n",
       "       -6.41603750e-17,  1.28320750e-16,  1.06933958e-16,  4.27735833e-16,\n",
       "        1.71094333e-16, -4.27735833e-17,  3.20801875e-16,  3.63575458e-16,\n",
       "        1.60400937e-17,  1.92481125e-16,  4.27735833e-17,  1.06933958e-16,\n",
       "        1.49707542e-16])"
      ]
     },
     "execution_count": 4,
     "metadata": {},
     "output_type": "execute_result"
    }
   ],
   "source": [
    "X.mean(axis=0)"
   ]
  },
  {
   "cell_type": "code",
   "execution_count": 5,
   "metadata": {
    "scrolled": true
   },
   "outputs": [
    {
     "data": {
      "text/plain": [
       "array([[-0.0800575 ,  0.04673292, -0.45165095, ..., -0.40616628,\n",
       "        -0.83837245, -0.52006971],\n",
       "       [ 0.6147436 ,  0.17426938, -0.43207104, ..., -0.36235194,\n",
       "        -0.42686578, -0.45082134],\n",
       "       [-0.0800575 ,  0.04673292, -0.45097762, ..., -0.37695672,\n",
       "        -0.83837245, -0.50330427],\n",
       "       ...,\n",
       "       [-1.46965972,  0.40792698,  0.67545689, ...,  1.75534096,\n",
       "        -0.7001588 , -0.60141582],\n",
       "       [-1.46965972,  0.40792698,  0.71984372, ...,  0.7432298 ,\n",
       "        -0.7001588 , -0.46423977],\n",
       "       [-0.77485861, -0.0030091 ,  0.41416385, ...,  0.32407265,\n",
       "         1.18612097,  1.81314381]])"
      ]
     },
     "execution_count": 5,
     "metadata": {},
     "output_type": "execute_result"
    }
   ],
   "source": [
    "from sklearn.decomposition import PCA\n",
    "pca = PCA(n_components= 60)\n",
    "pC = pca.fit_transform(X)\n",
    "#X = pd.DataFrame(data = pC) \n",
    "X"
   ]
  },
  {
   "cell_type": "code",
   "execution_count": 6,
   "metadata": {},
   "outputs": [],
   "source": [
    "X_train, X_test, y_train, y_test = train_test_split(X,y)"
   ]
  },
  {
   "cell_type": "markdown",
   "metadata": {
    "datalore": {
     "sheet_delimiter": false
    }
   },
   "source": [
    "## Scaling data\n"
   ]
  },
  {
   "cell_type": "code",
   "execution_count": 7,
   "metadata": {
    "datalore": {
     "sheet_delimiter": false
    }
   },
   "outputs": [],
   "source": [
    "#y_train=np.reshape(y_train, (-1,1))\n",
    "#y_test=np.reshape(y_test, (-1,1))\n",
    "#scaler_x = MinMaxScaler()\n",
    "#print(scaler_x.fit(X_train))\n",
    "#xtrain_scale=scaler_x.transform(X_train)\n",
    "#print(scaler_x.fit(X_test))\n",
    "#xval_scale=scaler_x.transform(X_test)"
   ]
  },
  {
   "cell_type": "code",
   "execution_count": null,
   "metadata": {
    "datalore": {
     "sheet_delimiter": false
    }
   },
   "outputs": [],
   "source": []
  },
  {
   "cell_type": "code",
   "execution_count": 8,
   "metadata": {},
   "outputs": [],
   "source": [
    "from tensorflow.keras.activations import swish, sigmoid"
   ]
  },
  {
   "cell_type": "code",
   "execution_count": 19,
   "metadata": {
    "datalore": {
     "sheet_delimiter": false
    }
   },
   "outputs": [
    {
     "name": "stdout",
     "output_type": "stream",
     "text": [
      "Model: \"sequential_1\"\n",
      "_________________________________________________________________\n",
      " Layer (type)                Output Shape              Param #   \n",
      "=================================================================\n",
      " dense_5 (Dense)             (None, 15)                1230      \n",
      "                                                                 \n",
      " dropout_4 (Dropout)         (None, 15)                0         \n",
      "                                                                 \n",
      " dense_6 (Dense)             (None, 150)               2400      \n",
      "                                                                 \n",
      " dropout_5 (Dropout)         (None, 150)               0         \n",
      "                                                                 \n",
      " dense_7 (Dense)             (None, 50)                7550      \n",
      "                                                                 \n",
      " dropout_6 (Dropout)         (None, 50)                0         \n",
      "                                                                 \n",
      " dense_8 (Dense)             (None, 75)                3825      \n",
      "                                                                 \n",
      " dropout_7 (Dropout)         (None, 75)                0         \n",
      "                                                                 \n",
      " dense_9 (Dense)             (None, 1)                 76        \n",
      "                                                                 \n",
      "=================================================================\n",
      "Total params: 15,081\n",
      "Trainable params: 15,081\n",
      "Non-trainable params: 0\n",
      "_________________________________________________________________\n"
     ]
    }
   ],
   "source": [
    "model = Sequential()\n",
    "model.add(Dense(15, input_shape=(81,), activation=swish))\n",
    "model.add(Dropout(0.))\n",
    "model.add(Dense(150, activation=swish))\n",
    "model.add(Dropout(0.5))\n",
    "model.add(Dense(50, activation=swish))\n",
    "model.add(Dropout(0.5))\n",
    "model.add(Dense(75, activation=sigmoid))\n",
    "model.add(Dropout(0.5))\n",
    "model.add(Dense(1, activation = \"linear\", kernel_initializer=\"normal\", bias_initializer=\"normal\"))\n",
    "model.summary()"
   ]
  },
  {
   "cell_type": "code",
   "execution_count": 23,
   "metadata": {
    "datalore": {
     "sheet_delimiter": false
    },
    "scrolled": false
   },
   "outputs": [
    {
     "name": "stdout",
     "output_type": "stream",
     "text": [
      "Epoch 1/20\n",
      "36/36 [==============================] - 1s 9ms/step - loss: 1180.1906 - mean_absolute_error: 29.5703 - val_loss: 1214.3010 - val_mean_absolute_error: 29.9919\n",
      "Epoch 2/20\n",
      "36/36 [==============================] - 0s 7ms/step - loss: 1181.7096 - mean_absolute_error: 29.5413 - val_loss: 1214.2388 - val_mean_absolute_error: 29.9505\n",
      "Epoch 3/20\n",
      "36/36 [==============================] - 0s 6ms/step - loss: 1175.1608 - mean_absolute_error: 29.4906 - val_loss: 1214.2400 - val_mean_absolute_error: 29.9046\n",
      "Epoch 4/20\n",
      "36/36 [==============================] - 0s 5ms/step - loss: 1178.7889 - mean_absolute_error: 29.5015 - val_loss: 1214.2860 - val_mean_absolute_error: 29.8723\n",
      "Epoch 5/20\n",
      "36/36 [==============================] - 0s 7ms/step - loss: 1181.0869 - mean_absolute_error: 29.5036 - val_loss: 1214.3522 - val_mean_absolute_error: 29.8458\n",
      "Epoch 6/20\n",
      "36/36 [==============================] - 0s 6ms/step - loss: 1182.6542 - mean_absolute_error: 29.4698 - val_loss: 1214.4292 - val_mean_absolute_error: 29.8231\n",
      "Epoch 7/20\n",
      "36/36 [==============================] - 0s 7ms/step - loss: 1171.8395 - mean_absolute_error: 29.4009 - val_loss: 1214.5612 - val_mean_absolute_error: 29.7927\n",
      "Epoch 8/20\n",
      "36/36 [==============================] - 0s 6ms/step - loss: 1178.9114 - mean_absolute_error: 29.4125 - val_loss: 1214.7263 - val_mean_absolute_error: 29.7629\n",
      "Epoch 9/20\n",
      "36/36 [==============================] - 0s 6ms/step - loss: 1175.3099 - mean_absolute_error: 29.3849 - val_loss: 1214.7620 - val_mean_absolute_error: 29.7573\n",
      "Epoch 10/20\n",
      "36/36 [==============================] - 0s 5ms/step - loss: 1187.0435 - mean_absolute_error: 29.4228 - val_loss: 1214.8605 - val_mean_absolute_error: 29.7427\n",
      "Epoch 11/20\n",
      "36/36 [==============================] - 0s 6ms/step - loss: 1177.4072 - mean_absolute_error: 29.3798 - val_loss: 1214.9089 - val_mean_absolute_error: 29.7359\n",
      "Epoch 12/20\n",
      "36/36 [==============================] - 0s 7ms/step - loss: 1185.3195 - mean_absolute_error: 29.4238 - val_loss: 1214.9575 - val_mean_absolute_error: 29.7293\n",
      "Epoch 13/20\n",
      "36/36 [==============================] - 0s 6ms/step - loss: 1176.0267 - mean_absolute_error: 29.3733 - val_loss: 1215.1221 - val_mean_absolute_error: 29.7087\n",
      "Epoch 14/20\n",
      "36/36 [==============================] - 0s 8ms/step - loss: 1180.0225 - mean_absolute_error: 29.3607 - val_loss: 1215.1674 - val_mean_absolute_error: 29.7035\n",
      "Epoch 15/20\n",
      "36/36 [==============================] - 0s 6ms/step - loss: 1173.3711 - mean_absolute_error: 29.3025 - val_loss: 1215.3013 - val_mean_absolute_error: 29.6886\n",
      "Epoch 16/20\n",
      "36/36 [==============================] - 0s 6ms/step - loss: 1181.0897 - mean_absolute_error: 29.3458 - val_loss: 1215.3628 - val_mean_absolute_error: 29.6820\n",
      "Epoch 17/20\n",
      "36/36 [==============================] - 0s 7ms/step - loss: 1179.0132 - mean_absolute_error: 29.3471 - val_loss: 1215.4797 - val_mean_absolute_error: 29.6701\n",
      "Epoch 18/20\n",
      "36/36 [==============================] - 0s 6ms/step - loss: 1172.0465 - mean_absolute_error: 29.2901 - val_loss: 1215.5454 - val_mean_absolute_error: 29.6637\n",
      "Epoch 19/20\n",
      "36/36 [==============================] - 0s 7ms/step - loss: 1173.5690 - mean_absolute_error: 29.3113 - val_loss: 1215.5815 - val_mean_absolute_error: 29.6603\n",
      "Epoch 20/20\n",
      "36/36 [==============================] - 0s 6ms/step - loss: 1185.1466 - mean_absolute_error: 29.3639 - val_loss: 1215.6818 - val_mean_absolute_error: 29.6510\n"
     ]
    }
   ],
   "source": [
    "model.compile(loss=tensorflow.keras.losses.MeanSquaredError(),\n",
    "              metrics=[tensorflow.keras.metrics.MeanAbsoluteError()])\n",
    "training = model.fit(X_train, y_train, batch_size=400, epochs=20, validation_split=0.1)"
   ]
  },
  {
   "cell_type": "code",
   "execution_count": 21,
   "metadata": {
    "datalore": {
     "sheet_delimiter": false
    }
   },
   "outputs": [],
   "source": [
    "def PlotLoss():\n",
    "    plt.plot(training.history['loss'], label=\"train\")\n",
    "    plt.plot(training.history['val_loss'], label=\"validation\")\n",
    "    plt.title('model loss')\n",
    "    plt.ylabel('loss')\n",
    "    plt.xlabel('epoch')\n",
    "    plt.legend()\n",
    "    plt.show()"
   ]
  },
  {
   "cell_type": "code",
   "execution_count": 22,
   "metadata": {},
   "outputs": [
    {
     "data": {
      "image/png": "[encoded data removed]",
      "text/plain": [
       "<Figure size 432x288 with 1 Axes>"
      ]
     },
     "metadata": {
      "needs_background": "light"
     },
     "output_type": "display_data"
    }
   ],
   "source": [
    "PlotLoss()"
   ]
  },
  {
   "cell_type": "code",
   "execution_count": 18,
   "metadata": {},
   "outputs": [
    {
     "data": {
      "text/html": [
       "<div>\n",
       "<style scoped>\n",
       "    .dataframe tbody tr th:only-of-type {\n",
       "        vertical-align: middle;\n",
       "    }\n",
       "\n",
       "    .dataframe tbody tr th {\n",
       "        vertical-align: top;\n",
       "    }\n",
       "\n",
       "    .dataframe thead th {\n",
       "        text-align: right;\n",
       "    }\n",
       "</style>\n",
       "<table border=\"1\" class=\"dataframe\">\n",
       "  <thead>\n",
       "    <tr style=\"text-align: right;\">\n",
       "      <th></th>\n",
       "      <th>predictions</th>\n",
       "      <th>true</th>\n",
       "    </tr>\n",
       "  </thead>\n",
       "  <tbody>\n",
       "    <tr>\n",
       "      <th>0</th>\n",
       "      <td>33.32262</td>\n",
       "      <td>93.80</td>\n",
       "    </tr>\n",
       "    <tr>\n",
       "      <th>1</th>\n",
       "      <td>33.32262</td>\n",
       "      <td>18.40</td>\n",
       "    </tr>\n",
       "    <tr>\n",
       "      <th>2</th>\n",
       "      <td>33.32262</td>\n",
       "      <td>78.00</td>\n",
       "    </tr>\n",
       "    <tr>\n",
       "      <th>3</th>\n",
       "      <td>33.32262</td>\n",
       "      <td>87.50</td>\n",
       "    </tr>\n",
       "    <tr>\n",
       "      <th>4</th>\n",
       "      <td>33.32262</td>\n",
       "      <td>84.80</td>\n",
       "    </tr>\n",
       "    <tr>\n",
       "      <th>...</th>\n",
       "      <td>...</td>\n",
       "      <td>...</td>\n",
       "    </tr>\n",
       "    <tr>\n",
       "      <th>15942</th>\n",
       "      <td>33.32262</td>\n",
       "      <td>4.85</td>\n",
       "    </tr>\n",
       "    <tr>\n",
       "      <th>15943</th>\n",
       "      <td>33.32262</td>\n",
       "      <td>33.00</td>\n",
       "    </tr>\n",
       "    <tr>\n",
       "      <th>15944</th>\n",
       "      <td>33.32262</td>\n",
       "      <td>3.70</td>\n",
       "    </tr>\n",
       "    <tr>\n",
       "      <th>15945</th>\n",
       "      <td>33.32262</td>\n",
       "      <td>5.98</td>\n",
       "    </tr>\n",
       "    <tr>\n",
       "      <th>15946</th>\n",
       "      <td>33.32262</td>\n",
       "      <td>23.70</td>\n",
       "    </tr>\n",
       "  </tbody>\n",
       "</table>\n",
       "<p>15947 rows × 2 columns</p>\n",
       "</div>"
      ],
      "text/plain": [
       "       predictions   true\n",
       "0         33.32262  93.80\n",
       "1         33.32262  18.40\n",
       "2         33.32262  78.00\n",
       "3         33.32262  87.50\n",
       "4         33.32262  84.80\n",
       "...            ...    ...\n",
       "15942     33.32262   4.85\n",
       "15943     33.32262  33.00\n",
       "15944     33.32262   3.70\n",
       "15945     33.32262   5.98\n",
       "15946     33.32262  23.70\n",
       "\n",
       "[15947 rows x 2 columns]"
      ]
     },
     "execution_count": 18,
     "metadata": {},
     "output_type": "execute_result"
    }
   ],
   "source": [
    "compare = pd.DataFrame(columns = ['predictions'], data = model.predict(X_train))\n",
    "compare['true'] = y_train\n",
    "compare"
   ]
  },
  {
   "cell_type": "code",
   "execution_count": null,
   "metadata": {},
   "outputs": [],
   "source": []
  }
 ],
 "metadata": {
  "kernelspec": {
   "display_name": "Python 3 (ipykernel)",
   "language": "python",
   "name": "python3"
  },
  "language_info": {
   "codemirror_mode": {
    "name": "ipython",
    "version": 3
   },
   "file_extension": ".py",
   "mimetype": "text/x-python",
   "name": "python",
   "nbconvert_exporter": "python",
   "pygments_lexer": "ipython3",
   "version": "3.9.9"
  }
 },
 "nbformat": 4,
 "nbformat_minor": 1
}
