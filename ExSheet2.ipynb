{
 "cells": [
  {
   "cell_type": "markdown",
   "id": "3731c678",
   "metadata": {},
   "source": [
    "Machine Learning Exercise Sheet 2 - Ludwig Neste\n",
    "==="
   ]
  },
  {
   "cell_type": "markdown",
   "id": "b1f880e0",
   "metadata": {},
   "source": [
    "<h2 id=\"tocheading\">Table of Contents</h2>\n",
    "<div id=\"toc\"></div>"
   ]
  },
  {
   "cell_type": "code",
   "execution_count": 1,
   "id": "61d27bde",
   "metadata": {},
   "outputs": [],
   "source": [
    "from IPython.display import Markdown as md"
   ]
  },
  {
   "cell_type": "code",
   "execution_count": 2,
   "id": "49307be5",
   "metadata": {},
   "outputs": [
    {
     "data": {
      "application/javascript": [
       "$.getScript('https://kmahelona.github.io/ipython_notebook_goodies/ipython_notebook_toc.js')\n"
      ],
      "text/plain": [
       "<IPython.core.display.Javascript object>"
      ]
     },
     "metadata": {},
     "output_type": "display_data"
    }
   ],
   "source": [
    "%%javascript\n",
    "$.getScript('https://kmahelona.github.io/ipython_notebook_goodies/ipython_notebook_toc.js')"
   ]
  },
  {
   "cell_type": "markdown",
   "id": "2a074404",
   "metadata": {},
   "source": [
    "## Exercise 1: A Primer on Statistics"
   ]
  },
  {
   "cell_type": "markdown",
   "id": "c9140ce1",
   "metadata": {},
   "source": [
    "In this exercise we need to use Bayes Law: \n",
    "$$\n",
    "P(A|B) = \\frac{P(B|A)P(A)}{P(B)} = \\frac{P(B|A)P(A)}{\\sum_i P(B|i)P(i)}\n",
    "$$"
   ]
  },
  {
   "cell_type": "code",
   "execution_count": 3,
   "id": "339f08db",
   "metadata": {},
   "outputs": [],
   "source": [
    "s = 0.8 # Sensitvity\n",
    "fp = 0.01 # False Positive\n",
    "p = 5/1000 # probability of being suspect"
   ]
  },
  {
   "cell_type": "markdown",
   "id": "a349f363",
   "metadata": {},
   "source": [
    "### (a)"
   ]
  },
  {
   "cell_type": "code",
   "execution_count": 4,
   "id": "4cc9925c",
   "metadata": {},
   "outputs": [
    {
     "data": {
      "text/markdown": [
       "$P(\\textrm{Suspect}|\\textrm{Identified as Suspect}) = \\frac{P(\\textrm{Identified as Suspect}|\\textrm{Suspect})P(\\textrm{Suspect})}{P(\\textrm{Identified as Suspect})} =28.57\\%$"
      ],
      "text/plain": [
       "<IPython.core.display.Markdown object>"
      ]
     },
     "execution_count": 4,
     "metadata": {},
     "output_type": "execute_result"
    }
   ],
   "source": [
    "answ1 = s*p/(s*p+fp)\n",
    "md(r\"$P(\\textrm{Suspect}|\\textrm{Identified as Suspect}) = \\frac{P(\\textrm{Identified as Suspect}|\\textrm{Suspect})P(\\textrm{Suspect})}{P(\\textrm{Identified as Suspect})} \"+f\"={answ1*100:.2f}\\%$\")"
   ]
  },
  {
   "cell_type": "markdown",
   "id": "bda18abe",
   "metadata": {},
   "source": [
    "### (b)"
   ]
  },
  {
   "cell_type": "code",
   "execution_count": 5,
   "id": "af79e99e",
   "metadata": {},
   "outputs": [
    {
     "data": {
      "text/markdown": [
       "$P(\\textrm{No Suspect}|\\textrm{Identified as Suspect}) = 1-P(\\textrm{Suspect}|\\textrm{Identified as Suspect})=71.43\\%$"
      ],
      "text/plain": [
       "<IPython.core.display.Markdown object>"
      ]
     },
     "execution_count": 5,
     "metadata": {},
     "output_type": "execute_result"
    }
   ],
   "source": [
    "answ2 = 1-answ1\n",
    "md(r\"$P(\\textrm{No Suspect}|\\textrm{Identified as Suspect}) = 1-P(\\textrm{Suspect}|\\textrm{Identified as Suspect})\"+f\"={answ2*100:.2f}\\%$\")"
   ]
  },
  {
   "cell_type": "markdown",
   "id": "64347a41",
   "metadata": {},
   "source": [
    "### (c)"
   ]
  },
  {
   "cell_type": "code",
   "execution_count": 6,
   "id": "9015362a",
   "metadata": {},
   "outputs": [
    {
     "data": {
      "text/markdown": [
       "$P(\\textrm{No Suspect}|\\textrm{Identified as Suspect}) = 1-P(\\textrm{Suspect}|\\textrm{Identified as Suspect})=7.98\\%$"
      ],
      "text/plain": [
       "<IPython.core.display.Markdown object>"
      ]
     },
     "execution_count": 6,
     "metadata": {},
     "output_type": "execute_result"
    }
   ],
   "source": [
    "# new params\n",
    "fp = 0.001 # False Positive\n",
    "N_train = 12e6\n",
    "p1 = 175_395/(N_train+175_395) # probability of being suspect\n",
    "p2 =  17_539/(N_train+ 17_539) # probability of being suspect\n",
    "p3 =   1_753/(N_train+  1_753) # probability of being suspect\n",
    "\n",
    "answ3 = s*p1/(s*p1+fp)\n",
    "answ4 = s*p2/(s*p2+fp)\n",
    "answ5 = s*p3/(s*p3+fp)\n",
    "\n",
    "md(r\"$P(\\textrm{No Suspect}|\\textrm{Identified as Suspect}) = 1-P(\\textrm{Suspect}|\\textrm{Identified as Suspect})\"+f\"={(1-answ3)*100:.2f}\\%$\")"
   ]
  },
  {
   "cell_type": "code",
   "execution_count": 7,
   "id": "51753f9f",
   "metadata": {},
   "outputs": [
    {
     "data": {
      "text/markdown": [
       "$P(\\textrm{No Suspect}|\\textrm{Identified as Suspect}) = 1-P(\\textrm{Suspect}|\\textrm{Identified as Suspect})=46.13\\%$"
      ],
      "text/plain": [
       "<IPython.core.display.Markdown object>"
      ]
     },
     "execution_count": 7,
     "metadata": {},
     "output_type": "execute_result"
    }
   ],
   "source": [
    "md(r\"$P(\\textrm{No Suspect}|\\textrm{Identified as Suspect}) = 1-P(\\textrm{Suspect}|\\textrm{Identified as Suspect})\"+f\"={(1-answ4)*100:.2f}\\%$\")"
   ]
  },
  {
   "cell_type": "code",
   "execution_count": 8,
   "id": "b489c881",
   "metadata": {},
   "outputs": [
    {
     "data": {
      "text/markdown": [
       "$P(\\textrm{No Suspect}|\\textrm{Identified as Suspect}) = 1-P(\\textrm{Suspect}|\\textrm{Identified as Suspect})=89.54\\%$"
      ],
      "text/plain": [
       "<IPython.core.display.Markdown object>"
      ]
     },
     "execution_count": 8,
     "metadata": {},
     "output_type": "execute_result"
    }
   ],
   "source": [
    "md(r\"$P(\\textrm{No Suspect}|\\textrm{Identified as Suspect}) = 1-P(\\textrm{Suspect}|\\textrm{Identified as Suspect})\"+f\"={(1-answ5)*100:.2f}\\%$\")"
   ]
  },
  {
   "cell_type": "markdown",
   "id": "ac72863c",
   "metadata": {},
   "source": [
    "## Exercise 2\n",
    "\n",
    "I would prefer ridge regression. \n",
    "The situation is as follows: we have way more features than datapoints. If we use normal least squares, this is equivalent of fitting a function in a 20,000 dimensional space with 10 datapoints. If our hypothesisclass is reasonably large (For example all affine functions), there will be an infinite number of parameters, which will give a squared error of 0. A easier example to see this is to fit a line through one datapoint in 2D: You can rotate the line around the point and get a 0 squared error. \n",
    "Ridge regression adds the condition, that the fit parameters are minimal too! So in ridge regression there will be a clear minimum. (This is a similar problem like in Exercise 4)"
   ]
  },
  {
   "cell_type": "markdown",
   "id": "4e1e65e3",
   "metadata": {},
   "source": [
    "## Exercise 3\n",
    "\n",
    "### (a)\n",
    "$$\n",
    "\\mathrm{pdf}_{\\textrm{Uniform}(0, w)}(x) = \n",
    "\\begin{cases}\n",
    "\\frac{1}{w} \\textrm{  if  } x\\in [0, w] \\\\\n",
    "0 \\textrm{  else  }\n",
    "\\end{cases}\n",
    "$$\n",
    "$$\n",
    "L(x_1,\\dots,x_n | \\textrm{Uniform}(0, w)) = \\prod_{i=1}^{n} \\mathrm{pdf}_{\\textrm{Uniform}(0, w)}(x_i )\n",
    "=\n",
    "\\begin{cases}\n",
    "\\frac{1}{w^n} \\quad \\forall i\\textrm{  if  } x_i\\in [0, w]  \\\\\n",
    "0 \\quad \\textrm{else  }\n",
    "\\end{cases}\n",
    "$$"
   ]
  },
  {
   "cell_type": "markdown",
   "id": "338aff4d",
   "metadata": {},
   "source": [
    "### (b)\n",
    "$$\n",
    "w_{\\textrm{opt}} = \\textrm{argmax}_{w}L(x_1,\\dots,x_n | \\textrm{Uniform}(0, w)) \n",
    "=\n",
    "\\textrm{argmax}_{w}\n",
    "\\begin{cases}\n",
    "\\frac{1}{w^n} \\quad \\forall i\\textrm{  if  } x_i\\in (0, w)  \\\\\n",
    "0 \\quad \\textrm{else  }\n",
    "\\end{cases}\n",
    "=\\textrm{argmax}_{w | w>=max(x_i)} \\frac{1}{w^n}  \\\\\n",
    "= \\textrm{argmax}_{w | w>=max(x_i)} \\frac{1}{w}\n",
    "= max(x_i)\n",
    "$$\n",
    "This works under the assumption that no $x_i$ is less than 0. This should work, since it is drawn from some Uniform distribution from 0 to $w$."
   ]
  },
  {
   "cell_type": "markdown",
   "id": "d40c018a",
   "metadata": {},
   "source": [
    "## Exercise 4"
   ]
  },
  {
   "cell_type": "markdown",
   "id": "f046d54d",
   "metadata": {},
   "source": [
    "### (a)\n",
    "(Now $L$ is for Loss-Function, not Likelihood anymore)\n",
    "$$\n",
    "L(\\vec w) = \\sum_{l=0}^{M-1} (\\vec w^T \\vec x_l - y_l)^2 + \\lambda \\vec w^{\\mathrm T} \\vec w \n",
    "= \\sum_{l=0}^{M-1} (\\vec x_l^T\\vec w - y_l)^2 + \\lambda \\vec w^{\\mathrm T} \\vec w \n",
    "$$"
   ]
  },
  {
   "cell_type": "markdown",
   "id": "7d674c11",
   "metadata": {},
   "source": [
    "$$\n",
    "\\nabla_{\\vec w}L \\big|_{\\vec w = \\vec w_{\\mathrm{opt}}}\n",
    "= \\sum_{l=0}^{M-1} 2\\vec x_l (\\vec x_l^T\\vec w_{\\mathrm{opt}} - y_l) + 2 \\lambda\\vec w _{\\mathrm{opt}}\n",
    "\\overset{!}{=} 0\\\\\n",
    "\\Leftrightarrow \n",
    "\\sum_{l=0}^{M-1} \\vec x_l \\vec x_l^T\\vec w_{\\mathrm{opt}} + \\lambda\\vec w_{\\mathrm{opt}} \n",
    "= \\left(\\sum_{l=0}^{M-1} \\vec x_l \\vec x_l^T + \\lambda \\mathbb{1}_{M\\times M}\\right)\\vec w_{\\mathrm{opt}}\n",
    "= A_{\\mathrm{Ridge}}\\vec w_{\\mathrm{opt}}\n",
    "= \\sum_{l=0}^{M-1} \\vec x_l y_l\n",
    "= \\vec b\n",
    "\\Leftrightarrow \n",
    "\\vec w_{\\mathrm{opt}} = A_{\\mathrm{Ridge}}^{-1} \\vec b\n",
    "$$\n",
    "Where the last step of course assumes, that $A_{\\mathrm{Ridge}}$ is invertable."
   ]
  },
  {
   "cell_type": "markdown",
   "id": "6b11a2dc",
   "metadata": {},
   "source": [
    "### (b)\n",
    "I am not going to use singular values in my argumentation, it should be still correct though.\n",
    "\n",
    "1. $A_{\\mathrm{Ridge}}$ is symmetric: $A_{\\mathrm{Ridge}} = A_{\\mathrm{Ridge}}^{\\mathrm T}$\n",
    "2. Thus $A_{\\mathrm{Ridge}}$ can be diagonalized: $\\exists U = U^{-1\\mathrm T},$ so that $U^{\\mathrm T}A_{\\mathrm{Ridge}} U = \\mathrm{diag}(\\mu_0, \\dots, \\mu_{M-1})$ With Eigenvalues $\\mu_i$.\n",
    "3. The diagonalized matrix is invertable, if and only if no eigenlvalue is zero, since the inverse of a diagonal matrix is the diagonal matrix with inverse elements. This thus means after basis transformation, that also the original matrix is only invertable under this condition.\n",
    "\n",
    "It is left to show, that all eigenvalues of $A_{\\mathrm{Ridge}}$ are not 0. For simplicity call $A_{\\mathrm{Ridge}}$ $A$ from now on."
   ]
  },
  {
   "cell_type": "markdown",
   "id": "7b3d3aa7",
   "metadata": {},
   "source": [
    "$$\n",
    "A\\vec y = \\mu \\vec y = \\left(\\sum_{l=0}^{M-1} \\vec x_l \\vec x_l^T + \\lambda \\mathbb{1}_{M\\times M}\\right) \\vec y\n",
    "\\Leftrightarrow \n",
    "\\sum_{l=0}^{M-1} \\vec x_l \\vec x_l^T \\vec y = (\\mu-\\lambda) \\vec y\n",
    "$$\n",
    "with $\\tilde \\mu = (\\mu-\\lambda)$ we can rewrite that as:\n",
    "$$\n",
    "(\\sum_{l=0}^{M-1}\\vec x_l \\vec x_l^T) \\vec y = \\tilde \\mu y\n",
    "$$.\n",
    "The eigenvalues of a matrix $A+B=C$ are the obviously the sum of the eigenvalues of $A$ and $B$.\n",
    "\n",
    "So we can look at the Eigenvalues of $\\vec x_l \\vec x_l^T$:"
   ]
  },
  {
   "cell_type": "markdown",
   "id": "187c1d25",
   "metadata": {},
   "source": [
    "$$\n",
    "\\vec x_l \\vec x_l^T \\vec y \n",
    "=(\\vec x_l \\vec x_l^T) \\vec y \n",
    "=\\vec x_l (\\vec x_l^T \\vec y) \n",
    "= \\vec x_l(\\vec x_l \\cdot \\vec y)\n",
    "= (\\vec x_l \\cdot \\vec y)\\vec x_l\n",
    "=\n",
    "\\tilde \\mu_l \\vec y\n",
    "$$\n",
    "\n",
    "This has two obvious solutions: \n",
    "1. The eigenvalue is 0 and the eigenvectors are all the linear independent vectors at right angle to $\\vec x_l$. In $N$ Dimensions, there are $N-1$ such vectors. So the multiplicity of eigenvalue 0 is $N-1$.\n",
    "2. The Eigenvector is $\\vec y = \\vec x_l$ and the eigenvalue is $\\tilde \\mu_l = (\\vec x_l \\cdot \\vec x_l) = || \\vec x_l ||^2 \\geq 0$. ($\\cdot$ means standard scalar product)\n",
    "\n",
    "These are all the eigenvalues, since we just found $N-1+1=N$ eigenvalues.\n",
    "\n",
    "This means definetly all eigenvalues are $\\tilde \\mu_l \\geq 0$. This in turn means: \n",
    "$$\n",
    "\\mu-\\lambda=\\tilde \\mu = \\sum_{l=0}^{M-1} \\tilde \\mu_l \\geq 0 \n",
    "\\Leftrightarrow\n",
    "\\mu \\geq \\lambda > 0\n",
    "$$\n",
    "This means all eigenvalues $\\mu$ are greater than 0 and the matrix is thus invertable.\n",
    "($\\lambda>0$ not given in this exercise, but this has to be assumed. For $\\lambda=0$ we have normal least squares, not ridge regression, and for some negatve lambdas there might not even exist a minimum at all. (E.g. choose  some $\\lambda$ so that $-\\lambda >> (\\mathrm{max}x_i)^2$)."
   ]
  },
  {
   "cell_type": "markdown",
   "id": "54eb6e81",
   "metadata": {},
   "source": [
    "## Exercise 5: Gradient decent:"
   ]
  },
  {
   "cell_type": "code",
   "execution_count": 9,
   "id": "557d821b",
   "metadata": {},
   "outputs": [],
   "source": [
    "# My Favorite Programming Language is rust. But I don't want to get into interfacing rust with python in a notebook.\n",
    "# So for this exercise my favorite language is 'numpy' ;)\n",
    "import numpy as np\n",
    "import matplotlib.pyplot as plt"
   ]
  },
  {
   "cell_type": "code",
   "execution_count": 10,
   "id": "318690a0",
   "metadata": {},
   "outputs": [],
   "source": [
    "def grad_decent(f, grad_f, x0, tol=1e-5, learning_rate=0.1):\n",
    "    \"\"\"\n",
    "    Very basic implementation of the gradient decent mathod in python. Constant learning_rate. Using analytical gradient.\n",
    "    Inputs:\n",
    "        f:      the scalar function taking N-dimensional numpy array as input.\n",
    "        grad_f: the N-dimensional gradient function taking N-demensional numpy array as input.\n",
    "        x0:     N-dimensional starting point for optimization\n",
    "        tol:    tolerance\n",
    "        learning_rate: learning rate\n",
    "    Output:\n",
    "        (min, vals)\n",
    "    \"\"\"\n",
    "    tol = tol**2\n",
    "    pos = x0\n",
    "    grad = grad_f(pos)\n",
    "    vals = [f(pos)]\n",
    "    \n",
    "    while np.inner(grad, grad) >= tol:\n",
    "        pos = pos - learning_rate*grad\n",
    "        grad = grad_f(pos)\n",
    "        vals += [f(pos)]\n",
    "    \n",
    "    return pos, vals"
   ]
  },
  {
   "cell_type": "code",
   "execution_count": 11,
   "id": "901f823e",
   "metadata": {},
   "outputs": [],
   "source": [
    "# define the test functions\n",
    "def sphere(w):\n",
    "    return np.inner(w, w)\n",
    "def grad_sphere(w):\n",
    "    return 2*w\n",
    "\n",
    "def rosenbrock(w):\n",
    "    wi = w[:-1]\n",
    "    wi1 = w[1:]\n",
    "    return np.sum(100*(wi1-wi**2)**2+(1-wi)**2)\n",
    "def grad_rosenbrock(w):\n",
    "    gf = np.array([2*(w[0]-1)-400*w[0]*(w[1]-w[0]**2)])\n",
    "    gl = np.array([200*(w[-1]-w[-2]**2)])\n",
    "    if w.size > 2:\n",
    "        wi = w[1:-1]\n",
    "        wi1 = w[2:]\n",
    "        wim1 = w[0:-2]\n",
    "        ret = 202*wi-200*wim1**2-200*wi*(wi1-wi**2)-2 \n",
    "        return np.concatenate((gf, ret, gl))\n",
    "    else:\n",
    "        return np.concatenate((gf, gl))\n",
    "\n",
    "def rastrigin(w, A=10):\n",
    "    n = w.size \n",
    "    return A*n+np.sum(w**2-A*np.cos(2*np.pi*w))\n",
    "def grad_rastrigin(w, A=10):\n",
    "    return 2*w+A*2*np.pi*np.sin(2*np.pi*w)"
   ]
  },
  {
   "cell_type": "code",
   "execution_count": 12,
   "id": "b1abb507",
   "metadata": {},
   "outputs": [],
   "source": [
    "def plot(vals, name, dim):\n",
    "    plt.cla()\n",
    "    plt.plot(vals)\n",
    "    plt.xlabel(\"Iteration\")\n",
    "    plt.ylabel(\"$f(x)$\")\n",
    "    plt.title(f\"Gradient Decent of '{name}' in $n={dim}$ Dimension. {len(vals)} Iterations\")\n",
    "    plt.grid()\n",
    "    plt.yscale(\"log\")\n",
    "    plt.tight_layout()"
   ]
  },
  {
   "cell_type": "code",
   "execution_count": 13,
   "id": "713d991c",
   "metadata": {},
   "outputs": [],
   "source": [
    "n = 2"
   ]
  },
  {
   "cell_type": "code",
   "execution_count": 14,
   "id": "85bf6e55",
   "metadata": {},
   "outputs": [
    {
     "data": {
      "image/png": "[encoded data removed]",
      "text/plain": [
       "<Figure size 432x288 with 1 Axes>"
      ]
     },
     "metadata": {
      "needs_background": "light"
     },
     "output_type": "display_data"
    }
   ],
   "source": [
    "min_pos, vals = grad_decent(sphere, grad_sphere, np.random.normal(size=n))\n",
    "plot(vals, \"sphere\", n)"
   ]
  },
  {
   "cell_type": "code",
   "execution_count": 15,
   "id": "008f0beb",
   "metadata": {},
   "outputs": [
    {
     "data": {
      "image/png": "[encoded data removed]",
      "text/plain": [
       "<Figure size 432x288 with 1 Axes>"
      ]
     },
     "metadata": {
      "needs_background": "light"
     },
     "output_type": "display_data"
    }
   ],
   "source": [
    "min_pos, vals = grad_decent(rosenbrock, grad_rosenbrock, np.random.normal(size=n), learning_rate=0.001)\n",
    "plot(vals, \"rosenbrock\", n)"
   ]
  },
  {
   "cell_type": "code",
   "execution_count": 16,
   "id": "0fd34d18",
   "metadata": {},
   "outputs": [
    {
     "data": {
      "image/png": "[encoded data removed]",
      "text/plain": [
       "<Figure size 432x288 with 1 Axes>"
      ]
     },
     "metadata": {
      "needs_background": "light"
     },
     "output_type": "display_data"
    }
   ],
   "source": [
    "min_pos, vals = grad_decent(rastrigin, grad_rastrigin, np.random.normal(size=n), learning_rate=0.001)\n",
    "plot(vals, \"rastrigin\", n)"
   ]
  },
  {
   "cell_type": "markdown",
   "id": "1fd9e53c",
   "metadata": {},
   "source": [
    "The learning rate $\\eta$ has to be adapted, to the scale of the 'landscape' of the function. \n",
    "\n",
    "This means: if the function changes on the scale of $s$, then $\\eta |\\nabla f| \\approx s$."
   ]
  },
  {
   "cell_type": "markdown",
   "id": "2c633dcb",
   "metadata": {},
   "source": [
    "## (d)"
   ]
  },
  {
   "cell_type": "code",
   "execution_count": 17,
   "id": "c256f0c5",
   "metadata": {},
   "outputs": [],
   "source": [
    "n = 30"
   ]
  },
  {
   "cell_type": "code",
   "execution_count": 18,
   "id": "ab014e80",
   "metadata": {},
   "outputs": [
    {
     "data": {
      "image/png": "[encoded data removed]",
      "text/plain": [
       "<Figure size 432x288 with 1 Axes>"
      ]
     },
     "metadata": {
      "needs_background": "light"
     },
     "output_type": "display_data"
    }
   ],
   "source": [
    "min_pos, vals = grad_decent(sphere, grad_sphere, np.random.normal(size=n))\n",
    "plot(vals, \"sphere\", n)"
   ]
  },
  {
   "cell_type": "code",
   "execution_count": 19,
   "id": "c897424c",
   "metadata": {},
   "outputs": [
    {
     "data": {
      "image/png": "[encoded data removed]",
      "text/plain": [
       "<Figure size 432x288 with 1 Axes>"
      ]
     },
     "metadata": {
      "needs_background": "light"
     },
     "output_type": "display_data"
    }
   ],
   "source": [
    "min_pos, vals = grad_decent(rosenbrock, grad_rosenbrock, np.random.normal(size=n), learning_rate=0.001)\n",
    "plot(vals, \"rosenbrock\", n)"
   ]
  },
  {
   "cell_type": "code",
   "execution_count": 20,
   "id": "ddc871c8",
   "metadata": {},
   "outputs": [
    {
     "data": {
      "image/png": "[encoded data removed]",
      "text/plain": [
       "<Figure size 432x288 with 1 Axes>"
      ]
     },
     "metadata": {
      "needs_background": "light"
     },
     "output_type": "display_data"
    }
   ],
   "source": [
    "min_pos, vals = grad_decent(rastrigin, grad_rastrigin, np.random.normal(size=n), learning_rate=0.001)\n",
    "plot(np.array(vals)-1, \"rastrigin\", n)"
   ]
  },
  {
   "cell_type": "code",
   "execution_count": 22,
   "id": "a34e2164",
   "metadata": {
    "scrolled": true
   },
   "outputs": [
    {
     "data": {
      "image/png": "[encoded data removed]",
      "text/plain": [
       "<Figure size 432x288 with 1 Axes>"
      ]
     },
     "metadata": {
      "needs_background": "light"
     },
     "output_type": "display_data"
    }
   ],
   "source": [
    "## Just for fun: Algorithm can handle rosenbrock with same LR to ca. 160 dim.\n",
    "min_pos, vals = grad_decent(rosenbrock, grad_rosenbrock, np.random.normal(size=160), learning_rate=0.001)\n",
    "plot(vals, \"rosenbrock\", 160)"
   ]
  }
 ],
 "metadata": {
  "kernelspec": {
   "display_name": "Python 3 (ipykernel)",
   "language": "python",
   "name": "python3"
  },
  "language_info": {
   "codemirror_mode": {
    "name": "ipython",
    "version": 3
   },
   "file_extension": ".py",
   "mimetype": "text/x-python",
   "name": "python",
   "nbconvert_exporter": "python",
   "pygments_lexer": "ipython3",
   "version": "3.9.9"
  }
 },
 "nbformat": 4,
 "nbformat_minor": 5
}
