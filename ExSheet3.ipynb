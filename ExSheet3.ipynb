{
 "cells": [
  {
   "cell_type": "markdown",
   "id": "3731c678",
   "metadata": {},
   "source": [
    "Machine Learning Exercise Sheet 3 - Ludwig Neste\n",
    "==="
   ]
  },
  {
   "cell_type": "markdown",
   "id": "b1f880e0",
   "metadata": {},
   "source": [
    "<h2 id=\"tocheading\">Table of Contents</h2>\n",
    "<div id=\"toc\"></div>"
   ]
  },
  {
   "cell_type": "code",
   "execution_count": 1,
   "id": "61d27bde",
   "metadata": {},
   "outputs": [],
   "source": [
    "from IPython.display import Markdown as md"
   ]
  },
  {
   "cell_type": "code",
   "execution_count": 2,
   "id": "49307be5",
   "metadata": {},
   "outputs": [
    {
     "data": {
      "application/javascript": [
       "$.getScript('https://kmahelona.github.io/ipython_notebook_goodies/ipython_notebook_toc.js')\n"
      ],
      "text/plain": [
       "<IPython.core.display.Javascript object>"
      ]
     },
     "metadata": {},
     "output_type": "display_data"
    }
   ],
   "source": [
    "%%javascript\n",
    "$.getScript('https://kmahelona.github.io/ipython_notebook_goodies/ipython_notebook_toc.js')"
   ]
  },
  {
   "cell_type": "markdown",
   "id": "535627d7",
   "metadata": {},
   "source": [
    "## Exercise 1: Principal Component Analysis on Iris Dataset "
   ]
  },
  {
   "cell_type": "code",
   "execution_count": 3,
   "id": "5cee1670",
   "metadata": {},
   "outputs": [],
   "source": [
    "# First, let's download the data if it is not there:\n",
    "import os.path as path\n",
    "\n",
    "def download(url: str):\n",
    "    file_name = url.split('/')[-1]\n",
    "    if not path.exists(f'./{file_name}'): \n",
    "        import requests\n",
    "        with open(file_name, 'wb') as file:\n",
    "            req = requests.get(url,  allow_redirects=True)\n",
    "            file.write(req.content)\n",
    "            print(f'Sucessfully downloaded {file_name}')\n",
    "    return file_name\n",
    "\n",
    "data_file = download('https://archive.ics.uci.edu/ml/machine-learning-databases/iris/iris.data')\n",
    "None"
   ]
  },
  {
   "cell_type": "code",
   "execution_count": 4,
   "id": "40a1aa31",
   "metadata": {},
   "outputs": [],
   "source": [
    "# libs\n",
    "import numpy as np\n",
    "import pandas as pd\n",
    "import matplotlib.pyplot as plt"
   ]
  },
  {
   "cell_type": "code",
   "execution_count": 5,
   "id": "01e5a71d",
   "metadata": {},
   "outputs": [],
   "source": [
    "data = pd.read_csv('iris.data', sep=',', names=['sepal  length',  'sepal  width',  'petal  length', 'petal  width', 'class'])"
   ]
  },
  {
   "cell_type": "code",
   "execution_count": 6,
   "id": "8d1d6c23",
   "metadata": {},
   "outputs": [
    {
     "data": {
      "text/html": [
       "<div>\n",
       "<style scoped>\n",
       "    .dataframe tbody tr th:only-of-type {\n",
       "        vertical-align: middle;\n",
       "    }\n",
       "\n",
       "    .dataframe tbody tr th {\n",
       "        vertical-align: top;\n",
       "    }\n",
       "\n",
       "    .dataframe thead th {\n",
       "        text-align: right;\n",
       "    }\n",
       "</style>\n",
       "<table border=\"1\" class=\"dataframe\">\n",
       "  <thead>\n",
       "    <tr style=\"text-align: right;\">\n",
       "      <th></th>\n",
       "      <th>sepal  length</th>\n",
       "      <th>sepal  width</th>\n",
       "      <th>petal  length</th>\n",
       "      <th>petal  width</th>\n",
       "      <th>class</th>\n",
       "    </tr>\n",
       "  </thead>\n",
       "  <tbody>\n",
       "    <tr>\n",
       "      <th>0</th>\n",
       "      <td>5.1</td>\n",
       "      <td>3.5</td>\n",
       "      <td>1.4</td>\n",
       "      <td>0.2</td>\n",
       "      <td>Iris-setosa</td>\n",
       "    </tr>\n",
       "    <tr>\n",
       "      <th>1</th>\n",
       "      <td>4.9</td>\n",
       "      <td>3.0</td>\n",
       "      <td>1.4</td>\n",
       "      <td>0.2</td>\n",
       "      <td>Iris-setosa</td>\n",
       "    </tr>\n",
       "    <tr>\n",
       "      <th>2</th>\n",
       "      <td>4.7</td>\n",
       "      <td>3.2</td>\n",
       "      <td>1.3</td>\n",
       "      <td>0.2</td>\n",
       "      <td>Iris-setosa</td>\n",
       "    </tr>\n",
       "    <tr>\n",
       "      <th>3</th>\n",
       "      <td>4.6</td>\n",
       "      <td>3.1</td>\n",
       "      <td>1.5</td>\n",
       "      <td>0.2</td>\n",
       "      <td>Iris-setosa</td>\n",
       "    </tr>\n",
       "    <tr>\n",
       "      <th>4</th>\n",
       "      <td>5.0</td>\n",
       "      <td>3.6</td>\n",
       "      <td>1.4</td>\n",
       "      <td>0.2</td>\n",
       "      <td>Iris-setosa</td>\n",
       "    </tr>\n",
       "    <tr>\n",
       "      <th>...</th>\n",
       "      <td>...</td>\n",
       "      <td>...</td>\n",
       "      <td>...</td>\n",
       "      <td>...</td>\n",
       "      <td>...</td>\n",
       "    </tr>\n",
       "    <tr>\n",
       "      <th>145</th>\n",
       "      <td>6.7</td>\n",
       "      <td>3.0</td>\n",
       "      <td>5.2</td>\n",
       "      <td>2.3</td>\n",
       "      <td>Iris-virginica</td>\n",
       "    </tr>\n",
       "    <tr>\n",
       "      <th>146</th>\n",
       "      <td>6.3</td>\n",
       "      <td>2.5</td>\n",
       "      <td>5.0</td>\n",
       "      <td>1.9</td>\n",
       "      <td>Iris-virginica</td>\n",
       "    </tr>\n",
       "    <tr>\n",
       "      <th>147</th>\n",
       "      <td>6.5</td>\n",
       "      <td>3.0</td>\n",
       "      <td>5.2</td>\n",
       "      <td>2.0</td>\n",
       "      <td>Iris-virginica</td>\n",
       "    </tr>\n",
       "    <tr>\n",
       "      <th>148</th>\n",
       "      <td>6.2</td>\n",
       "      <td>3.4</td>\n",
       "      <td>5.4</td>\n",
       "      <td>2.3</td>\n",
       "      <td>Iris-virginica</td>\n",
       "    </tr>\n",
       "    <tr>\n",
       "      <th>149</th>\n",
       "      <td>5.9</td>\n",
       "      <td>3.0</td>\n",
       "      <td>5.1</td>\n",
       "      <td>1.8</td>\n",
       "      <td>Iris-virginica</td>\n",
       "    </tr>\n",
       "  </tbody>\n",
       "</table>\n",
       "<p>150 rows × 5 columns</p>\n",
       "</div>"
      ],
      "text/plain": [
       "     sepal  length  sepal  width  petal  length  petal  width           class\n",
       "0              5.1           3.5            1.4           0.2     Iris-setosa\n",
       "1              4.9           3.0            1.4           0.2     Iris-setosa\n",
       "2              4.7           3.2            1.3           0.2     Iris-setosa\n",
       "3              4.6           3.1            1.5           0.2     Iris-setosa\n",
       "4              5.0           3.6            1.4           0.2     Iris-setosa\n",
       "..             ...           ...            ...           ...             ...\n",
       "145            6.7           3.0            5.2           2.3  Iris-virginica\n",
       "146            6.3           2.5            5.0           1.9  Iris-virginica\n",
       "147            6.5           3.0            5.2           2.0  Iris-virginica\n",
       "148            6.2           3.4            5.4           2.3  Iris-virginica\n",
       "149            5.9           3.0            5.1           1.8  Iris-virginica\n",
       "\n",
       "[150 rows x 5 columns]"
      ]
     },
     "execution_count": 6,
     "metadata": {},
     "output_type": "execute_result"
    }
   ],
   "source": [
    "data"
   ]
  },
  {
   "cell_type": "code",
   "execution_count": 7,
   "id": "d79e7a3b",
   "metadata": {},
   "outputs": [
    {
     "data": {
      "text/html": [
       "<div>\n",
       "<style scoped>\n",
       "    .dataframe tbody tr th:only-of-type {\n",
       "        vertical-align: middle;\n",
       "    }\n",
       "\n",
       "    .dataframe tbody tr th {\n",
       "        vertical-align: top;\n",
       "    }\n",
       "\n",
       "    .dataframe thead th {\n",
       "        text-align: right;\n",
       "    }\n",
       "</style>\n",
       "<table border=\"1\" class=\"dataframe\">\n",
       "  <thead>\n",
       "    <tr style=\"text-align: right;\">\n",
       "      <th></th>\n",
       "      <th>sepal  length</th>\n",
       "      <th>sepal  width</th>\n",
       "      <th>petal  length</th>\n",
       "      <th>petal  width</th>\n",
       "    </tr>\n",
       "  </thead>\n",
       "  <tbody>\n",
       "    <tr>\n",
       "      <th>0</th>\n",
       "      <td>-0.743333</td>\n",
       "      <td>0.446</td>\n",
       "      <td>-2.358667</td>\n",
       "      <td>-0.998667</td>\n",
       "    </tr>\n",
       "    <tr>\n",
       "      <th>1</th>\n",
       "      <td>-0.943333</td>\n",
       "      <td>-0.054</td>\n",
       "      <td>-2.358667</td>\n",
       "      <td>-0.998667</td>\n",
       "    </tr>\n",
       "    <tr>\n",
       "      <th>2</th>\n",
       "      <td>-1.143333</td>\n",
       "      <td>0.146</td>\n",
       "      <td>-2.458667</td>\n",
       "      <td>-0.998667</td>\n",
       "    </tr>\n",
       "    <tr>\n",
       "      <th>3</th>\n",
       "      <td>-1.243333</td>\n",
       "      <td>0.046</td>\n",
       "      <td>-2.258667</td>\n",
       "      <td>-0.998667</td>\n",
       "    </tr>\n",
       "    <tr>\n",
       "      <th>4</th>\n",
       "      <td>-0.843333</td>\n",
       "      <td>0.546</td>\n",
       "      <td>-2.358667</td>\n",
       "      <td>-0.998667</td>\n",
       "    </tr>\n",
       "    <tr>\n",
       "      <th>...</th>\n",
       "      <td>...</td>\n",
       "      <td>...</td>\n",
       "      <td>...</td>\n",
       "      <td>...</td>\n",
       "    </tr>\n",
       "    <tr>\n",
       "      <th>145</th>\n",
       "      <td>0.856667</td>\n",
       "      <td>-0.054</td>\n",
       "      <td>1.441333</td>\n",
       "      <td>1.101333</td>\n",
       "    </tr>\n",
       "    <tr>\n",
       "      <th>146</th>\n",
       "      <td>0.456667</td>\n",
       "      <td>-0.554</td>\n",
       "      <td>1.241333</td>\n",
       "      <td>0.701333</td>\n",
       "    </tr>\n",
       "    <tr>\n",
       "      <th>147</th>\n",
       "      <td>0.656667</td>\n",
       "      <td>-0.054</td>\n",
       "      <td>1.441333</td>\n",
       "      <td>0.801333</td>\n",
       "    </tr>\n",
       "    <tr>\n",
       "      <th>148</th>\n",
       "      <td>0.356667</td>\n",
       "      <td>0.346</td>\n",
       "      <td>1.641333</td>\n",
       "      <td>1.101333</td>\n",
       "    </tr>\n",
       "    <tr>\n",
       "      <th>149</th>\n",
       "      <td>0.056667</td>\n",
       "      <td>-0.054</td>\n",
       "      <td>1.341333</td>\n",
       "      <td>0.601333</td>\n",
       "    </tr>\n",
       "  </tbody>\n",
       "</table>\n",
       "<p>150 rows × 4 columns</p>\n",
       "</div>"
      ],
      "text/plain": [
       "     sepal  length  sepal  width  petal  length  petal  width\n",
       "0        -0.743333         0.446      -2.358667     -0.998667\n",
       "1        -0.943333        -0.054      -2.358667     -0.998667\n",
       "2        -1.143333         0.146      -2.458667     -0.998667\n",
       "3        -1.243333         0.046      -2.258667     -0.998667\n",
       "4        -0.843333         0.546      -2.358667     -0.998667\n",
       "..             ...           ...            ...           ...\n",
       "145       0.856667        -0.054       1.441333      1.101333\n",
       "146       0.456667        -0.554       1.241333      0.701333\n",
       "147       0.656667        -0.054       1.441333      0.801333\n",
       "148       0.356667         0.346       1.641333      1.101333\n",
       "149       0.056667        -0.054       1.341333      0.601333\n",
       "\n",
       "[150 rows x 4 columns]"
      ]
     },
     "execution_count": 7,
     "metadata": {},
     "output_type": "execute_result"
    }
   ],
   "source": [
    "# normalise design matrix\n",
    "X = data.drop(columns=['class'])\n",
    "y = data.get('class')\n",
    "X = X-X.mean()\n",
    "X"
   ]
  },
  {
   "cell_type": "code",
   "execution_count": 8,
   "id": "5b29d8ee",
   "metadata": {},
   "outputs": [],
   "source": [
    "# covariance matrix\n",
    "cov = X.T@X/(X.shape[0]-1)\n",
    "# calculate eigenvectors (cov is symmetric, so we can use eigh)\n",
    "eigenvalues, eigenvectors = np.linalg.eigh(cov)\n",
    "# This is so the first index is the indexth eigenvector\n",
    "eigenvectors = eigenvectors.T"
   ]
  },
  {
   "cell_type": "code",
   "execution_count": 9,
   "id": "b6acf626",
   "metadata": {},
   "outputs": [
    {
     "data": {
      "text/plain": [
       "(array([4.22484077, 0.24224357, 0.07852391, 0.02368303]),\n",
       " array([[-0.36158968,  0.08226889, -0.85657211, -0.35884393],\n",
       "        [ 0.65653988,  0.72971237, -0.1757674 , -0.07470647],\n",
       "        [ 0.58099728, -0.59641809, -0.07252408, -0.54906091],\n",
       "        [ 0.31725455, -0.32409435, -0.47971899,  0.75112056]]))"
      ]
     },
     "execution_count": 9,
     "metadata": {},
     "output_type": "execute_result"
    }
   ],
   "source": [
    "# reoder to the highest eigenvalues (strictly speaking not necesary, since eigh is giving already the right order):\n",
    "order = np.argsort(eigenvalues)[::-1]\n",
    "eigenvalues, eigenvectors = eigenvalues[order], eigenvectors[order]\n",
    "eigenvalues, eigenvectors"
   ]
  },
  {
   "cell_type": "code",
   "execution_count": 10,
   "id": "c6f970a7",
   "metadata": {},
   "outputs": [
    {
     "data": {
      "text/html": [
       "<div>\n",
       "<style scoped>\n",
       "    .dataframe tbody tr th:only-of-type {\n",
       "        vertical-align: middle;\n",
       "    }\n",
       "\n",
       "    .dataframe tbody tr th {\n",
       "        vertical-align: top;\n",
       "    }\n",
       "\n",
       "    .dataframe thead th {\n",
       "        text-align: right;\n",
       "    }\n",
       "</style>\n",
       "<table border=\"1\" class=\"dataframe\">\n",
       "  <thead>\n",
       "    <tr style=\"text-align: right;\">\n",
       "      <th></th>\n",
       "      <th>0</th>\n",
       "      <th>1</th>\n",
       "    </tr>\n",
       "  </thead>\n",
       "  <tbody>\n",
       "    <tr>\n",
       "      <th>0</th>\n",
       "      <td>-1.125612</td>\n",
       "      <td>1.994712</td>\n",
       "    </tr>\n",
       "    <tr>\n",
       "      <th>1</th>\n",
       "      <td>-1.381564</td>\n",
       "      <td>1.613402</td>\n",
       "    </tr>\n",
       "    <tr>\n",
       "      <th>2</th>\n",
       "      <td>-1.236038</td>\n",
       "      <td>1.802533</td>\n",
       "    </tr>\n",
       "    <tr>\n",
       "      <th>3</th>\n",
       "      <td>-1.149333</td>\n",
       "      <td>1.602051</td>\n",
       "    </tr>\n",
       "    <tr>\n",
       "      <th>4</th>\n",
       "      <td>-1.023799</td>\n",
       "      <td>2.059457</td>\n",
       "    </tr>\n",
       "    <tr>\n",
       "      <th>...</th>\n",
       "      <td>...</td>\n",
       "      <td>...</td>\n",
       "    </tr>\n",
       "    <tr>\n",
       "      <th>145</th>\n",
       "      <td>0.841599</td>\n",
       "      <td>-1.185501</td>\n",
       "    </tr>\n",
       "    <tr>\n",
       "      <th>146</th>\n",
       "      <td>0.414863</td>\n",
       "      <td>-1.334343</td>\n",
       "    </tr>\n",
       "    <tr>\n",
       "      <th>147</th>\n",
       "      <td>0.818740</td>\n",
       "      <td>-1.104726</td>\n",
       "    </tr>\n",
       "    <tr>\n",
       "      <th>148</th>\n",
       "      <td>1.401209</td>\n",
       "      <td>-1.054034</td>\n",
       "    </tr>\n",
       "    <tr>\n",
       "      <th>149</th>\n",
       "      <td>0.914144</td>\n",
       "      <td>-1.029627</td>\n",
       "    </tr>\n",
       "  </tbody>\n",
       "</table>\n",
       "<p>150 rows × 2 columns</p>\n",
       "</div>"
      ],
      "text/plain": [
       "            0         1\n",
       "0   -1.125612  1.994712\n",
       "1   -1.381564  1.613402\n",
       "2   -1.236038  1.802533\n",
       "3   -1.149333  1.602051\n",
       "4   -1.023799  2.059457\n",
       "..        ...       ...\n",
       "145  0.841599 -1.185501\n",
       "146  0.414863 -1.334343\n",
       "147  0.818740 -1.104726\n",
       "148  1.401209 -1.054034\n",
       "149  0.914144 -1.029627\n",
       "\n",
       "[150 rows x 2 columns]"
      ]
     },
     "execution_count": 10,
     "metadata": {},
     "output_type": "execute_result"
    }
   ],
   "source": [
    "# now reduce the dimension of the dataset:\n",
    "X_reduced = X@eigenvectors[:,:2]\n",
    "X_reduced"
   ]
  },
  {
   "cell_type": "code",
   "execution_count": 11,
   "id": "cbd03312",
   "metadata": {},
   "outputs": [
    {
     "data": {
      "text/plain": [
       "Text(0, 0.5, 'Principle Component 2')"
      ]
     },
     "execution_count": 11,
     "metadata": {},
     "output_type": "execute_result"
    },
    {
     "data": {
      "image/png": "[encoded data removed]",
      "text/plain": [
       "<Figure size 432x288 with 1 Axes>"
      ]
     },
     "metadata": {
      "needs_background": "light"
     },
     "output_type": "display_data"
    }
   ],
   "source": [
    "# plot the result\n",
    "colors, labels = y.factorize()\n",
    "for idx, label in enumerate(labels):\n",
    "    plt.scatter(x=X_reduced[0][colors==idx], y=X_reduced[1][colors==idx], label=label)\n",
    "plt.grid()\n",
    "plt.legend()\n",
    "plt.xlabel('Principle Component 1')\n",
    "plt.ylabel('Principle Component 2')"
   ]
  },
  {
   "cell_type": "markdown",
   "id": "4b6eb63c",
   "metadata": {},
   "source": [
    "## Exercise 2: Find principle Component"
   ]
  },
  {
   "cell_type": "markdown",
   "id": "9b13f91f",
   "metadata": {},
   "source": [
    "Eigenvalue-Equation:\n",
    "$$\n",
    "\\mathrm{det}\\left(\\Sigma -\\lambda \\mathbb{1}\\right) = 0\\\\\n",
    "\\Leftrightarrow \n",
    "\\mathrm{det}\n",
    "\\begin{pmatrix}\n",
    "\\sigma^2 - \\lambda & \\sigma^2 \\rho  & 0 \\\\\n",
    "\\sigma^2 \\rho & \\sigma^2 - \\lambda & \\sigma^2 \\rho \\\\\n",
    "0&\\sigma^2 \\rho &  \\sigma^2 - \\lambda  \\\\\n",
    "\\end{pmatrix}\n",
    "= 0\n",
    "= \\left(\\sigma^2 - \\lambda\\right)\\left(\\right)\n",
    "$$"
   ]
  },
  {
   "cell_type": "code",
   "execution_count": 12,
   "id": "bf9b8816",
   "metadata": {},
   "outputs": [],
   "source": [
    "import sympy\n",
    "sympy.init_printing()"
   ]
  },
  {
   "cell_type": "code",
   "execution_count": 13,
   "id": "3965b256",
   "metadata": {},
   "outputs": [
    {
     "data": {
      "image/png": "[encoded data removed]",
      "text/latex": [
       "$\\displaystyle - 2 \\rho^{2} \\sigma^{4} \\left(- \\lambda + \\sigma^{2}\\right) + \\left(- \\lambda + \\sigma^{2}\\right)^{3}$"
      ],
      "text/plain": [
       "                                                             3\n",
       "        2       4 ⎛                 2⎞   ⎛                 2⎞ \n",
       "- 2⋅\\rho ⋅\\sigma ⋅⎝-\\lambda + \\sigma ⎠ + ⎝-\\lambda + \\sigma ⎠ "
      ]
     },
     "execution_count": 13,
     "metadata": {},
     "output_type": "execute_result"
    }
   ],
   "source": [
    "sig, rho, lam = sympy.symbols(r\"\\sigma, \\rho, \\lambda\")\n",
    "M = sympy.Matrix([[sig**2-lam, sig**2*rho, 0], [sig**2*rho, sig**2-lam, sig**2*rho], [0, sig**2*rho, sig**2-lam]])\n",
    "det = sympy.det_quick(M)\n",
    "det"
   ]
  },
  {
   "cell_type": "code",
   "execution_count": 14,
   "id": "09772693",
   "metadata": {},
   "outputs": [
    {
     "data": {
      "image/png": "[encoded data removed]",
      "text/latex": [
       "$\\displaystyle \\left[ \\sigma^{2}, \\  - \\sqrt{2} \\rho \\sigma^{2} + \\sigma^{2}, \\  \\sqrt{2} \\rho \\sigma^{2} + \\sigma^{2}\\right]$"
      ],
      "text/plain": [
       "⎡      2                  2         2                2         2⎤\n",
       "⎣\\sigma , - √2⋅\\rho⋅\\sigma  + \\sigma , √2⋅\\rho⋅\\sigma  + \\sigma ⎦"
      ]
     },
     "execution_count": 14,
     "metadata": {},
     "output_type": "execute_result"
    }
   ],
   "source": [
    "solutions = sympy.solve(det, lam)\n",
    "solutions"
   ]
  },
  {
   "cell_type": "code",
   "execution_count": 15,
   "id": "432c0901",
   "metadata": {},
   "outputs": [
    {
     "data": {
      "image/png": "[encoded data removed]",
      "text/latex": [
       "$\\displaystyle \\left[ \\left[\\begin{matrix}-1\\\\0\\\\1\\end{matrix}\\right], \\  \\left[\\begin{matrix}1\\\\- \\sqrt{2}\\\\1\\end{matrix}\\right], \\  \\left[\\begin{matrix}1\\\\\\sqrt{2}\\\\1\\end{matrix}\\right]\\right]$"
      ],
      "text/plain": [
       "⎡⎡-1⎤  ⎡ 1 ⎤  ⎡1 ⎤⎤\n",
       "⎢⎢  ⎥  ⎢   ⎥  ⎢  ⎥⎥\n",
       "⎢⎢0 ⎥, ⎢-√2⎥, ⎢√2⎥⎥\n",
       "⎢⎢  ⎥  ⎢   ⎥  ⎢  ⎥⎥\n",
       "⎣⎣1 ⎦  ⎣ 1 ⎦  ⎣1 ⎦⎦"
      ]
     },
     "execution_count": 15,
     "metadata": {},
     "output_type": "execute_result"
    }
   ],
   "source": [
    "eigv = []\n",
    "for solution in solutions:\n",
    "    eigv += M.subs(lam, solution).nullspace()\n",
    "\n",
    "eigv"
   ]
  },
  {
   "cell_type": "markdown",
   "id": "b1b9dca8",
   "metadata": {},
   "source": [
    "The eigenvectors (not normalized), and thus the principle components, are \n",
    "$$\n",
    "\\vec v_0 = \n",
    "\\begin{pmatrix}\n",
    "-1\\\\0\\\\1\n",
    "\\end{pmatrix}\n",
    "$$\n",
    "with eigenvalue $\\lambda_0=\\sigma^2$ and \n",
    "$$\n",
    "\\vec v_\\pm = \n",
    "\\begin{pmatrix}\n",
    "1\\\\ \\pm\\mathrm{sgn}\\left({\\rho}\\right)\\sqrt{2}\\\\1\n",
    "\\end{pmatrix}\n",
    "$$ with eigenvalue $\\lambda_\\pm=\\sigma^2\\left(1\\pm\\sqrt{2} |\\rho|\\right)$.\n",
    "\n",
    "Where $\\lambda_+$ is the biggest eigenvalue, followed by $\\lambda_0$, followed by $\\lambda_-$."
   ]
  },
  {
   "cell_type": "markdown",
   "id": "743d2973",
   "metadata": {},
   "source": [
    "Where the explained variance of each is:\n",
    "$$\n",
    "\\eta_\\pm = \\frac{1\\pm\\sqrt{2}|\\rho|}{3}\\\\\n",
    "\\eta_0   = \\frac{1}{3}\n",
    "$$"
   ]
  },
  {
   "cell_type": "markdown",
   "id": "54eddb42",
   "metadata": {},
   "source": [
    "## Exercise 3: Overfitting of Logistic Regression"
   ]
  },
  {
   "cell_type": "code",
   "execution_count": 16,
   "id": "59046a07",
   "metadata": {},
   "outputs": [
    {
     "data": {
      "image/png": "[encoded data removed]",
      "text/plain": [
       "<Figure size 432x288 with 1 Axes>"
      ]
     },
     "metadata": {
      "needs_background": "light"
     },
     "output_type": "display_data"
    }
   ],
   "source": [
    "def sigmoid(x, w=1):\n",
    "    return 1/(1+np.exp(x*w))\n",
    "x = np.linspace(-5, 5, 1000)\n",
    "plt.plot(x, sigmoid(x, 1), label='w=1')\n",
    "plt.plot(x, sigmoid(x, 5), label='w=5')\n",
    "plt.plot(x, sigmoid(x, 100), label='w=100')\n",
    "plt.legend()\n",
    "plt.grid()\n",
    "plt.tight_layout()"
   ]
  },
  {
   "cell_type": "markdown",
   "id": "a531f927",
   "metadata": {},
   "source": [
    "Some Quick Ideas: \n",
    "The gradient vanishes for high weights"
   ]
  },
  {
   "cell_type": "markdown",
   "id": "e38986e2",
   "metadata": {},
   "source": [
    "## Exercise 4"
   ]
  },
  {
   "cell_type": "markdown",
   "id": "e3a10cd1",
   "metadata": {},
   "source": [
    "### (a) \n",
    "First observe that the second algorithm is the more general one. In fact the first algorithm is a subset of the second one. To see that make the Rectangle 'infinitely' large on all axis except BP and BMI.\n",
    "The first Algorithm has less parameters to fit, so we are, among other things, less prone to overfitting.\n",
    "The second Algorithm is more general and is able to aproximate the underlying data more accurately.\n",
    "\n",
    "### (b)\n",
    "The more labeled training samples I have, the more I would choose the second algorithm over the first."
   ]
  },
  {
   "cell_type": "markdown",
   "id": "189cf91b",
   "metadata": {},
   "source": [
    "## Exercise 5\n",
    "The consequence is that Data Scientists will still have jobs in the foreseeable future. There is no general Hypothesis class to solve every problem. \n",
    "In praxis for each new ML task, we need to get familiar with the data and the problem and construct an apropreate hypothesis class. This is what we do, when we for example construct a neural network.  "
   ]
  },
  {
   "cell_type": "markdown",
   "id": "735b5f1e",
   "metadata": {},
   "source": [
    "## Exercise 6 "
   ]
  },
  {
   "cell_type": "code",
   "execution_count": 17,
   "id": "8aea435d",
   "metadata": {},
   "outputs": [],
   "source": [
    "x = np.array([2, 3, 4, 11, 12, 12, 7, 8, 8], dtype=np.float64)\n",
    "y = np.array([3, 1, 2, 5, 4, 6, 5, 4, 6], dtype=np.float64)"
   ]
  },
  {
   "cell_type": "code",
   "execution_count": 18,
   "id": "ad237ab6",
   "metadata": {},
   "outputs": [
    {
     "data": {
      "text/plain": [
       "<matplotlib.collections.PathCollection at 0x7fa7cc7cd160>"
      ]
     },
     "execution_count": 18,
     "metadata": {},
     "output_type": "execute_result"
    },
    {
     "data": {
      "image/png": "[encoded data removed]",
      "text/plain": [
       "<Figure size 432x288 with 1 Axes>"
      ]
     },
     "metadata": {
      "needs_background": "light"
     },
     "output_type": "display_data"
    }
   ],
   "source": [
    "plt.scatter(x, y)"
   ]
  },
  {
   "cell_type": "code",
   "execution_count": 19,
   "id": "6be1fc85",
   "metadata": {},
   "outputs": [],
   "source": [
    "def k_means(X, k0, tol=1e-5, nmax=100):\n",
    "    shape = k0.shape\n",
    "    k = k0.reshape((shape[0], 1, shape[1]))\n",
    "    \n",
    "    # for paralelisation\n",
    "    multi = np.array(shape[0]*[X])\n",
    "    label_types = np.array(np.arange(shape[0])).reshape((shape[0],1))\n",
    "    \n",
    "    for n in range(nmax):\n",
    "        D = multi-k\n",
    "        # calc euclidean distance\n",
    "        D = np.sum(D**2, axis=2)\n",
    "        labels = np.argmin(D, axis=0)\n",
    "\n",
    "        masks = labels==label_types\n",
    "        \n",
    "        knew = np.empty(k.shape)\n",
    "        for idx, mask in enumerate(masks):\n",
    "            n = mask.sum()\n",
    "            knew[idx] = np.sum(X[mask], axis=0)\n",
    "            if n>0:\n",
    "                knew[idx] /= n\n",
    "        \n",
    "        \n",
    "        if np.sum(np.abs(k-knew)) <= tol:\n",
    "            break\n",
    "        \n",
    "        k = knew\n",
    "    \n",
    "    \n",
    "    return labels, n"
   ]
  },
  {
   "cell_type": "code",
   "execution_count": 20,
   "id": "47a7ca5f",
   "metadata": {},
   "outputs": [
    {
     "data": {
      "text/plain": [
       "Text(0.5, 1.0, '6 steps')"
      ]
     },
     "execution_count": 20,
     "metadata": {},
     "output_type": "execute_result"
    },
    {
     "data": {
      "image/png": "[encoded data removed]",
      "text/plain": [
       "<Figure size 432x288 with 1 Axes>"
      ]
     },
     "metadata": {
      "needs_background": "light"
     },
     "output_type": "display_data"
    }
   ],
   "source": [
    "X = np.array([x, y]).T\n",
    "k0 = np.array([X[1], X[7]])\n",
    "labels, n = k_means(X, k0)\n",
    "plt.scatter(x, y, c=labels)\n",
    "plt.title(f\"{n} steps\")"
   ]
  },
  {
   "cell_type": "markdown",
   "id": "5d9c55c5",
   "metadata": {},
   "source": [
    "### (b)"
   ]
  },
  {
   "cell_type": "code",
   "execution_count": 21,
   "id": "3bb73d17",
   "metadata": {},
   "outputs": [
    {
     "data": {
      "text/plain": [
       "Text(0.5, 1.0, '3 steps')"
      ]
     },
     "execution_count": 21,
     "metadata": {},
     "output_type": "execute_result"
    },
    {
     "data": {
      "image/png": "[encoded data removed]",
      "text/plain": [
       "<Figure size 432x288 with 1 Axes>"
      ]
     },
     "metadata": {
      "needs_background": "light"
     },
     "output_type": "display_data"
    }
   ],
   "source": [
    "k0 = np.array([X[7], X[1]])\n",
    "labels, n = k_means(X, k0)\n",
    "plt.scatter(x, y, c=labels)\n",
    "plt.title(f\"{n} steps\")"
   ]
  },
  {
   "cell_type": "markdown",
   "id": "f1281c55",
   "metadata": {},
   "source": [
    "I can not find any pair which gives different clusters, it always converges to the same value."
   ]
  },
  {
   "cell_type": "markdown",
   "id": "171c5790",
   "metadata": {},
   "source": [
    "## Exercise 7"
   ]
  },
  {
   "cell_type": "markdown",
   "id": "2a6b7b36",
   "metadata": {},
   "source": [
    "$f$ is $\\rho$-Lipschitz $\\Leftrightarrow  |f(x_1) - f(x_2)| \\le \\rho ||x_1 - x_2||.$\n",
    "\n",
    "Divide $[-1, 1]^n$ in $N=\\left\\lceil\\frac{2\\rho\\sqrt{n}}{\\epsilon}\\right\\rceil\\ge\\frac{2\\rho\\sqrt{n}}{\\epsilon}$ equal length boxes in each dimension. Each Box then has a side length of $L=\\frac{2}{N}$ and the two most distant points in the box are $L\\sqrt{n}$ (euclidean norm, works with any other norm, though).\n",
    "Thus for such a Box $B$ with $x_1, x_2 \\in B$ we find:\n",
    "$$\n",
    "|f(x_1) - f(x_2)| \\le \\rho ||x_1 - x_2|| \\le \\rho \\frac{2\\sqrt{n}}{N} \\le \\epsilon\n",
    "$$"
   ]
  },
  {
   "cell_type": "markdown",
   "id": "713e77a9",
   "metadata": {},
   "source": [
    "Next we are going to construct a Network with two hidden Layers $V_1, V_2$. The first Layer will have a for each coordinate $x_i$, and each $j=0\\dots N$ division a neuron $N_{i,j}$ which outputs $\\approx 1$ if $x_i>\\frac{2j}{N}-1$ and else $\\approx 0$."
   ]
  },
  {
   "cell_type": "markdown",
   "id": "0195c69c",
   "metadata": {},
   "source": [
    "The second hidden layer will have for each of the $N^n$ Boxes one neuron, which outputs $\\approx 1$ if the current vector is in that box. (The corner cases here will be hard: if we transition from exaclty one box to exactly one other, it will be a monotone transition from one value to the other. If we transition through more than 2 boxex though, we will decline to 0 before going back to the box value again. \n",
    "The problem of the corners of the boxes, will indefinetly remain in my proof. This means the inequality we have to show is not furfilled at all the points where more than 2 Boxes touch.)"
   ]
  },
  {
   "cell_type": "markdown",
   "id": "591efbde",
   "metadata": {},
   "source": [
    "Let $V_0 = \\{a_1, \\dots, a_n\\}$ denote the input layer, with inputs $a_i=x_i$. \n",
    "Define the first hidden layer by $V_1=\\{N_{i,j} | i=1\\dots n, j=0\\dots N\\}$ with \n",
    "$$\n",
    "N_{i,j}(a_1, \\dots, a_n) = w\\cdot\\left(a_i+1-\\frac{2j}{N}\\right)=\\underbrace{w}_{\\text{i-th weight}}a_i+\\underbrace{w-w\\frac{2j}{N}}_{\\text{bias}}\n",
    "$$"
   ]
  },
  {
   "cell_type": "markdown",
   "id": "f33ff9ce",
   "metadata": {},
   "source": [
    "Where $w$ is the same for each neuron. The activation funciton $\\sigma$ is given by the sigmoid function \n",
    "$$\n",
    "\\sigma(x) = \\frac{1}{1+e^{-x}} = 1-\\sigma(-x).\n",
    "$$"
   ]
  },
  {
   "cell_type": "markdown",
   "id": "53ac1bfb",
   "metadata": {},
   "source": [
    "We need to proof $|\\sigma(x)-\\Theta(x)| < \\epsilon > 0 \\forall |x|>\\log(\\frac{1}{\\epsilon}-1)$, that is: if x is high enough, the sigmoid function aproximates the heaviside funciton arbritrary well. Since $\\sigma(x)=1-\\sigma(-x)$, we can show it $x<0$, and are done:\n",
    "$$\n",
    "|\\sigma(x)-\\Theta(x)| = \\frac{1}{1+e^{|x|}} < \\epsilon \\forall x < 0\\\\\n",
    "\\Leftrightarrow \n",
    "|x| > \\log (\\frac{1}{\\epsilon}-1).\n",
    "$$"
   ]
  },
  {
   "cell_type": "markdown",
   "id": "d8638241",
   "metadata": {},
   "source": [
    "This means, the output of the first hidden layer $o_{i,j}=\\sigma(N_{i,j})$ approximates $\\Theta(a_i+1-\\frac{2j}{N})$ abitrarily sharp, if we choose $w>0$ high enough.\n",
    "In our context: if we want to be able to approach the borders of the boxes with a distance $\\delta$ with an error of less then $\\epsilon$, we have to choose \n",
    "$$\n",
    "w > \\frac{1}{\\delta} \\log(\\frac{1}{\\epsilon}-1)\n",
    "$$"
   ]
  },
  {
   "cell_type": "markdown",
   "id": "31838d03",
   "metadata": {},
   "source": [
    "Define the second hidden layer by $V_2=\\{B_{k_1,\\dots,k_n}|k_i=1\\dots N\\}$ with \n",
    "$$\n",
    "B_{k_1,\\dots,k_n} = \\tilde w \\left(\\sum_{i=1}^n\\left(o_{i,k_i-1}-o_{i,k_i}\\right) - n + 0.5\\right)\n",
    "$$\n",
    "Where $\\tilde w$ is again choosen as high, as the sharpness needs to be.\n",
    "The output of the second hidden layer is $\\tilde o_{k_1,\\dots,k_n} = \\sigma(B_{k_1,\\dots,k_n})$.\n",
    "\n",
    "$\\tilde o_{k_1,\\dots,k_n}$ now is only approximately one, if the input vector is in Box number ${k_1,\\dots,k_n}$. This works by summing up each dimension where the coordinate is right (brackets in the sum) and then substracting the number of dimensions and adding a half. Thus if all dimensions are right, this turns out to be 0.5, and if not, it is less than -0.5. (so we can emediately see, $\\tilde w$ should be much bigger than 2)."
   ]
  },
  {
   "cell_type": "markdown",
   "id": "64bf5ea3",
   "metadata": {},
   "source": [
    "The output layer $V_3 = {O}$ then outputs \n",
    "$$\n",
    "O = \\sum_{k_1=1}^{N}\\dots \\sum_{k_n=1}^{N} \\sigma(B_{k_1,\\dots,k_n}) \\bar f_{k_1,\\dots,k_n}\n",
    "$$\n",
    "\n",
    "Where $\\bar f_{k_1,\\dots,k_n}$ is the average value of $f$ in the Box number ${k_1,\\dots,k_n}$.\n",
    "Alternatively we could take for example the value at the center of the Box, and the proof still works:\n",
    "$$\n",
    "\\bar f_{k_1,\\dots,k_n} = f\\left (\\frac{2(k_1+0.5)}{N}-1, \\dots, \\frac{2(k_n+0.5)}{N}-1\\right)\n",
    "$$"
   ]
  }
 ],
 "metadata": {
  "kernelspec": {
   "display_name": "Python 3 (ipykernel)",
   "language": "python",
   "name": "python3"
  },
  "language_info": {
   "codemirror_mode": {
    "name": "ipython",
    "version": 3
   },
   "file_extension": ".py",
   "mimetype": "text/x-python",
   "name": "python",
   "nbconvert_exporter": "python",
   "pygments_lexer": "ipython3",
   "version": "3.9.9"
  }
 },
 "nbformat": 4,
 "nbformat_minor": 5
}
